{
 "cells": [
  {
   "cell_type": "markdown",
   "metadata": {},
   "source": [
    "# Import Libraries"
   ]
  },
  {
   "cell_type": "code",
   "execution_count": 1,
   "metadata": {},
   "outputs": [],
   "source": [
    "import numpy as np\n",
    "import pandas as pd \n",
    "import math\n",
    "import os\n",
    "import re\n",
    "from Levenshtein import distance\n",
    "from sklearn.model_selection import train_test_split\n",
    "from sklearn.ensemble import RandomForestClassifier\n",
    "from sklearn.metrics import classification_report\n",
    "import concurrent.futures\n",
    "import warnings\n",
    "warnings.filterwarnings('ignore')"
   ]
  },
  {
   "cell_type": "markdown",
   "metadata": {},
   "source": [
    "# Load tables"
   ]
  },
  {
   "cell_type": "code",
   "execution_count": 2,
   "metadata": {},
   "outputs": [],
   "source": [
    "# Change the current working directory to the CSV folder\n",
    "\n",
    "def load_tables_from_csv(csv_folder_path ):\n",
    "    \"\"\"\n",
    "    Load all the tables in in the input list\n",
    "\n",
    "    Args:\n",
    "    ----\n",
    "    csv_folder_path: Path to folder where csv is stored\n",
    "    input_table_list: List of tables from user\n",
    "\n",
    "    Reutrns:\n",
    "    ------\n",
    "    tables_data: dictionary of loaded table dataframes\n",
    "    NOTE: To access the table df later, use tables_data['tab_name'] Eg: tables_data['ekko']  \n",
    "    \"\"\"\n",
    "    os.chdir(csv_folder_path)\n",
    "    # Get the list of CSV files in the root directory\n",
    "    csv_files = [filename for filename in os.listdir() if filename.endswith('.csv')]\n",
    "\n",
    "    # # Dictionary to store DataFrames\n",
    "    tables_data = {}\n",
    "\n",
    "    # Load CSV files into DataFrames\n",
    "    for csv_file in csv_files:\n",
    "        table_name = os.path.splitext(csv_file)[0].upper()  # Assuming filenames are in uppercase\n",
    "        df = pd.read_csv(csv_file  , encoding= 'unicode_escape'  , low_memory=False)\n",
    "        if len(df.columns) > 50:\n",
    "            first_50_columns = df.columns[:50] #only keeping 50 cols\n",
    "            df = df[first_50_columns]\n",
    "        tables_data[table_name.lower()] = [df]    \n",
    "    return tables_data"
   ]
  },
  {
   "cell_type": "code",
   "execution_count": 3,
   "metadata": {},
   "outputs": [],
   "source": [
    "csv_folder_path = r\"D:\\OneDrive - Students RWTH Aachen University\\PADS thesis topic\\SAPDataset\\ML_Training tables\"\n",
    "tables_data = load_tables_from_csv(csv_folder_path)"
   ]
  },
  {
   "cell_type": "code",
   "execution_count": 7,
   "metadata": {},
   "outputs": [
    {
     "data": {
      "text/plain": [
       "dict_keys(['eban', 'ekko', 'likp', 'mkpf', 'rbkp', 'vbak', 'vbrk'])"
      ]
     },
     "execution_count": 7,
     "metadata": {},
     "output_type": "execute_result"
    }
   ],
   "source": [
    "tables_data.keys()"
   ]
  },
  {
   "cell_type": "code",
   "execution_count": 15,
   "metadata": {},
   "outputs": [
    {
     "data": {
      "text/plain": [
       "Index(['MANDT', 'VBELN', 'ERDAT', 'ERZET', 'ERNAM', 'ANGDT', 'BNDDT', 'AUDAT',\n",
       "       'VBTYP'],\n",
       "      dtype='object')"
      ]
     },
     "execution_count": 15,
     "metadata": {},
     "output_type": "execute_result"
    }
   ],
   "source": [
    "tables_data['vbak'][0].columns"
   ]
  },
  {
   "cell_type": "code",
   "execution_count": 4,
   "metadata": {},
   "outputs": [],
   "source": [
    "def import_dd03l():\n",
    "    dd03l_ = pd.read_csv('D:\\OneDrive - Students RWTH Aachen University\\PADS thesis topic\\SAPDataset\\DD03L.csv'  , encoding= 'unicode_escape', low_memory= False )\n",
    "    \n",
    "    tabnames_list = [ 'MKPF', \n",
    "                      'VBAK',   'VBRK', \n",
    "                      'LIKP', \n",
    "                    'EKKO',  'EBAN', 'RBKP', 'BKPF']\n",
    "                    \n",
    "\n",
    "# Filter the dd03l DataFrame based on the tabnames_list\n",
    "    dd03l = dd03l_[dd03l_['TABNAME'].isin(tabnames_list)]\n",
    "    del dd03l_\n",
    "    return dd03l\n",
    "dd03l = import_dd03l()"
   ]
  },
  {
   "cell_type": "markdown",
   "metadata": {},
   "source": [
    "# Compute Mterics"
   ]
  },
  {
   "cell_type": "markdown",
   "metadata": {},
   "source": [
    "## Datatype and permissible length"
   ]
  },
  {
   "cell_type": "code",
   "execution_count": 5,
   "metadata": {},
   "outputs": [],
   "source": [
    "def get_col_datatyp_permissible_length_position_dictionary(tabname_str, tab_df):\n",
    "    \"\"\"\n",
    "    Creates a dictionary with the datatype, permissible length, and position number for each column in the table.\n",
    "\n",
    "    Args:\n",
    "        tabname_str (str): Name of the SAP table.\n",
    "        tab_df (pandas.DataFrame): DataFrame of the SAP table.\n",
    "        dd03l (pandas.DataFrame): DataFrame containing metadata information.\n",
    "\n",
    "    Returns:\n",
    "        datatype_permissible_len_dict (dict): Dictionary with column name as key and [datatype, permissible len, position number] as value.\n",
    "    \"\"\"\n",
    "    tabname_str = tabname_str.upper()\n",
    "    datatype_permissible_len_dict = {}\n",
    "    # position_counter = 1  #NOTE: change to DD03L position\n",
    "\n",
    "    for col in tab_df.columns:\n",
    "        col = col.upper()\n",
    "        col_exists = dd03l['FIELDNAME'].eq(col).any()\n",
    "\n",
    "        if col_exists:\n",
    "            try:\n",
    "                datatype = dd03l.loc[(dd03l['TABNAME'] == tabname_str) & (dd03l['FIELDNAME'] == col), 'DATATYPE'].iloc[0]\n",
    "                max_len = dd03l.loc[(dd03l['TABNAME'] == tabname_str) & (dd03l['FIELDNAME'] == col), 'LENG'].iloc[0]\n",
    "                col_position = dd03l.loc[(dd03l['TABNAME'] == tabname_str) & (dd03l['FIELDNAME'] == col), 'POSITION'].iloc[0]\n",
    "                datatype_permissible_len_dict[col] = [datatype, max_len, col_position]\n",
    "                # position_counter += 1  # Increment the counter for the next column\n",
    "            except:\n",
    "                datatype = \"Datatype not found\"\n",
    "                max_len = \"Permissible length not found\"\n",
    "                col_position = 'Not found'\n",
    "                datatype_permissible_len_dict[col] = [datatype, max_len, col_position]\n",
    "                # position_counter += 1\n",
    "\n",
    "    return datatype_permissible_len_dict\n"
   ]
  },
  {
   "cell_type": "markdown",
   "metadata": {},
   "source": [
    "## Uniquesness Score"
   ]
  },
  {
   "cell_type": "code",
   "execution_count": 6,
   "metadata": {},
   "outputs": [],
   "source": [
    "def uniqueness_score(column):\n",
    "    unique_values = column.unique()\n",
    "    total_values = len(column)\n",
    "    uniqueness_score = len(unique_values) / total_values\n",
    "    return uniqueness_score\n",
    "\n",
    "def calculate_uniqueness_scores(df):\n",
    "    num_rows = len(df)\n",
    "    num_groups = int(np.ceil(num_rows / 1000))\n",
    "    groups = np.array_split(df.sample(frac=1), num_groups)\n",
    "    uniqueness_df = pd.DataFrame(columns=df.columns)\n",
    "\n",
    "    for group in groups:\n",
    "        group_scores = []\n",
    "        for col in df.columns:\n",
    "            score = uniqueness_score(group[col])\n",
    "            group_scores.append(score)\n",
    "        uniqueness_df = uniqueness_df.append(pd.Series(group_scores, index=df.columns), ignore_index=True)\n",
    "        \n",
    "\n",
    "    return uniqueness_df"
   ]
  },
  {
   "cell_type": "markdown",
   "metadata": {},
   "source": [
    "## Duplicate Values"
   ]
  },
  {
   "cell_type": "code",
   "execution_count": 7,
   "metadata": {},
   "outputs": [],
   "source": [
    "def calculate_duplicate_metric(uniqueness_df):\n",
    "    duplicate_df = 1 - uniqueness_df\n",
    "    return duplicate_df"
   ]
  },
  {
   "cell_type": "markdown",
   "metadata": {},
   "source": [
    "## Richness"
   ]
  },
  {
   "cell_type": "code",
   "execution_count": 8,
   "metadata": {},
   "outputs": [],
   "source": [
    "def calculate_richness_score(duplicate_metric_df):\n",
    "    richness_df = 1 / duplicate_metric_df\n",
    "    richness_df = richness_df.replace([np.inf, -np.inf], 10000) #replace inf values with large number\n",
    "    return richness_df"
   ]
  },
  {
   "cell_type": "markdown",
   "metadata": {},
   "source": [
    "## Similarity Score"
   ]
  },
  {
   "cell_type": "code",
   "execution_count": 9,
   "metadata": {},
   "outputs": [],
   "source": [
    "def similarity_score(column):\n",
    "    distinct_values = column.unique()\n",
    "    num_distinct = len(distinct_values)\n",
    "    similarity_scores = []\n",
    "\n",
    "    if num_distinct <= 1:\n",
    "        return 0.0  # Return 0 for columns with only one unique value\n",
    "\n",
    "\n",
    "    for i in range(num_distinct):\n",
    "        for j in range(i + 1, num_distinct):\n",
    "            distance_normalized = distance(str(distinct_values[i]), str(distinct_values[j])) / max(len(str(distinct_values[i])), len(str(distinct_values[j])))\n",
    "            similarity_scores.append(1 - distance_normalized)\n",
    "\n",
    "    return np.min(similarity_scores)  # Compute the average similarity score\n",
    "\n",
    "def calculate_similarity_scores(df):\n",
    "    num_rows = len(df)\n",
    "    num_groups = int(np.ceil(num_rows / 1000))\n",
    "    groups = np.array_split(df.sample(frac=1), num_groups)\n",
    "    similarity_scores_list = []\n",
    "\n",
    "    for group in groups:\n",
    "           group_scores = []\n",
    "           for col in df.columns:\n",
    "               score = similarity_score(group[col])\n",
    "               group_scores.append(score)\n",
    "           similarity_scores_list.append(group_scores)\n",
    "\n",
    "    # similarity_df = pd.DataFrame(similarity_scores_list, columns=[f\"{col}_similarity\" for col in df.columns])\n",
    "    similarity_df = pd.DataFrame(similarity_scores_list, columns=[col for col in df.columns])\n",
    "    similarity_df = similarity_df.replace([np.nan, -np.nan], 0)\n",
    "    similarity_df = similarity_df.replace([np.inf, -np.inf], 10000)\n",
    "    return similarity_df\n"
   ]
  },
  {
   "cell_type": "markdown",
   "metadata": {},
   "source": [
    "## Missing Values"
   ]
  },
  {
   "cell_type": "code",
   "execution_count": 10,
   "metadata": {},
   "outputs": [],
   "source": [
    "def missing_value_ratio(df):\n",
    "    \"\"\"\n",
    "    Computes the ratio of missing values in subsets of 1000 random rows for each column of the given DataFrame\n",
    "    \n",
    "    Args:\n",
    "        df (pandas.DataFrame): Input DataFrame\n",
    "        \n",
    "    Returns:\n",
    "        pandas.DataFrame: A DataFrame containing the missing value ratio for each column\n",
    "    \"\"\"\n",
    "    missing_values = [np.nan, None, \" \", 0]  # Define the set of missing values\n",
    "    subset_size = 1000  # Define the size of each subset\n",
    "    \n",
    "    # Compute the number of subsets needed for each column\n",
    "    num_subsets = (df.shape[0] + subset_size - 1) // subset_size\n",
    "    \n",
    "    # Initialize an empty DataFrame to store the results\n",
    "    missing_value_df = pd.DataFrame(columns=df.columns)\n",
    "    \n",
    "    # Compute the missing value ratio for each subset of 1000 rows for each column\n",
    "    for i in range(num_subsets):\n",
    "        start = i * subset_size\n",
    "        end = min((i + 1) * subset_size, df.shape[0])\n",
    "        subset = df.iloc[start:end]\n",
    "        missing_count = subset.apply(lambda x: x.isin(missing_values).sum())\n",
    "        missing_ratio = missing_count / subset_size\n",
    "        missing_value_df.loc[i] = missing_ratio\n",
    "    \n",
    "    return missing_value_df"
   ]
  },
  {
   "cell_type": "markdown",
   "metadata": {},
   "source": [
    "## Formatting constraints"
   ]
  },
  {
   "cell_type": "code",
   "execution_count": 11,
   "metadata": {},
   "outputs": [],
   "source": [
    "def calculate_formatting_constraints(missing_value_df):\n",
    "    \"\"\"\n",
    "    Calculates the formatting constraints metric as 1 - missing value ratio for each column of the given DataFrame\n",
    "    \n",
    "    Args:\n",
    "        df (pandas.DataFrame): Input DataFrame\n",
    "        \n",
    "    Returns:\n",
    "        pandas.DataFrame: A DataFrame containing the formatting constraints metric for each column\n",
    "    \"\"\"\n",
    "    formatting_constraints_df = 1 - missing_value_df\n",
    "    return formatting_constraints_df"
   ]
  },
  {
   "cell_type": "markdown",
   "metadata": {},
   "source": [
    "## Entropy"
   ]
  },
  {
   "cell_type": "code",
   "execution_count": 12,
   "metadata": {},
   "outputs": [],
   "source": [
    "def entropy_formula(column):\n",
    "    counts = column.value_counts(normalize=True)\n",
    "    entropy = 0\n",
    "    for count in counts:\n",
    "        entropy -= count * math.log(count, 2)\n",
    "    return entropy\n",
    "\n",
    "def calculate_entropy(df):\n",
    "    if isinstance(df, pd.Series):\n",
    "        df = pd.DataFrame(df)\n",
    "    entropy_scores = {}  # dictionary to store entropy scores for each column\n",
    "\n",
    "    for column in df.columns:\n",
    "        entropy_scores[column] = []  # initialize list for column's entropy scores\n",
    "        for i in range(math.ceil(len(df) / 1000)):  # loop through subsets of 1000 random rows\n",
    "            subset = df[column].sample(n=1000)  # select 1000 random rows for the column\n",
    "            entropy = entropy_formula(subset)\n",
    "            entropy_scores[column].append(entropy)\n",
    "\n",
    "    entropy_df = pd.DataFrame.from_dict(entropy_scores)\n",
    "    return entropy_df"
   ]
  },
  {
   "cell_type": "markdown",
   "metadata": {},
   "source": [
    "## Combined df of metrics with col names"
   ]
  },
  {
   "cell_type": "code",
   "execution_count": 13,
   "metadata": {},
   "outputs": [],
   "source": [
    "def combine_metrics( dataTyp_len_position , uniqueness_df , duplicate_metrics_df ,\n",
    "                                calculate_richness_df , similarity_score_df , missing_value_df ,\n",
    "                                formatting_constraints_df , entropy_df , tab_name_str , table_df):\n",
    "    # initialize an empty DataFrame to store the results\n",
    "    tab_name_str = tab_name_str.upper()\n",
    "    result_df = pd.DataFrame(columns=['table_name', 'col_name',\n",
    "                                      'uniqueness_scores','duplicate_values','richness',\n",
    "                                      'similarity_score', 'missing_ratio','formatting_constraints',\n",
    "                                      'entropy','time_precision', 'value_ambiguity','position' , \n",
    "                                      'permissible_len' , 'datatype'])\n",
    "    dataTyp_len_position_dict = dataTyp_len_position\n",
    "    # iterate over the columns and fill the result_df\n",
    "    for col_name in table_df.columns:\n",
    "        # get the values for the current column from each input DataFrame\n",
    "        unique_vals = uniqueness_df[col_name]\n",
    "        duplicate_values = duplicate_metrics_df[col_name]\n",
    "        richness = calculate_richness_df[col_name]\n",
    "        similarity_score = similarity_score_df[col_name]\n",
    "        miss_vals = missing_value_df[col_name]\n",
    "        formatting_constraints = formatting_constraints_df[col_name]\n",
    "        ent_vals = entropy_df[col_name]\n",
    "        \n",
    "         # Extract information from dataTyp_len_position_dict for the current column\n",
    "        col_info = dataTyp_len_position_dict.get(col_name, [None, None, None])\n",
    "        data_type, permissible_len, position = col_info\n",
    "\n",
    "        # Determine time_precision and value_ambiguity based on conditions\n",
    "        time_precision = 1 if data_type in ['DATS', 'TIMS'] else 0\n",
    "        value_ambiguity = 1 if col_name == 'tcode' else 0\n",
    "\n",
    "        # combine the values into a single Series\n",
    "        combined_vals  = pd.DataFrame({ 'table_name': tab_name_str,\n",
    "                                        'col_name': col_name,\n",
    "                                        'uniqueness_scores': unique_vals,\n",
    "                                        'duplicate_values': duplicate_values,\n",
    "                                        'richness': richness,\n",
    "                                        'similarity_score': similarity_score,\n",
    "                                        'missing_ratio': miss_vals,\n",
    "                                        'formatting_constraints': formatting_constraints,\n",
    "                                        'entropy': ent_vals,\n",
    "                                        'time_precision': time_precision,\n",
    "                                        'value_ambiguity': value_ambiguity,\n",
    "                                        'position': position,\n",
    "                                        'permissible_len': permissible_len,\n",
    "                                        'datatype': data_type\n",
    "                                        })\n",
    "        result_df = pd.concat([result_df , combined_vals])\n",
    "\n",
    "    # generate the list of target values\n",
    "    # targets = [select_conditions[col_names.index(col_name)] for col_name in result_df['col_name']]\n",
    "\n",
    "    # assign the list to a new column in result_df\n",
    "    # result_df['targets'] = targets\n",
    "    return result_df"
   ]
  },
  {
   "cell_type": "markdown",
   "metadata": {},
   "source": [
    "# Single function to compute metrics"
   ]
  },
  {
   "cell_type": "code",
   "execution_count": 14,
   "metadata": {},
   "outputs": [],
   "source": [
    "# generate the df for all these metrics as below for the table\n",
    "# "
   ]
  },
  {
   "cell_type": "code",
   "execution_count": 14,
   "metadata": {},
   "outputs": [],
   "source": [
    "def ComputeMetrics(tab_name_str , table_df):\n",
    "    # Modifying this function to nnot give col select conditions as it will be an unsupervised training set. \n",
    "    #calculate the individual metrics first\n",
    "    dataTyp_len_position =          get_col_datatyp_permissible_length_position_dictionary(tab_name_str , table_df)\n",
    "    uniqueness_df =                 calculate_uniqueness_scores(table_df)\n",
    "    duplicate_metrics_df =          calculate_duplicate_metric(uniqueness_df)\n",
    "    calculate_richness_df =         calculate_richness_score(duplicate_metrics_df)\n",
    "    similarity_score_df =           calculate_similarity_scores(table_df)\n",
    "    missing_value_df =              missing_value_ratio(table_df)\n",
    "    formatting_constraints_df =     calculate_formatting_constraints(missing_value_df)\n",
    "    entropy_df =                    calculate_entropy(table_df)\n",
    "\n",
    "    #combine all the metrics to comput the training df\n",
    "    result_df = combine_metrics( dataTyp_len_position , uniqueness_df , duplicate_metrics_df ,\n",
    "                                            calculate_richness_df , similarity_score_df , missing_value_df ,\n",
    "                                            formatting_constraints_df , entropy_df , tab_name_str , table_df)\n",
    "    return result_df"
   ]
  },
  {
   "cell_type": "markdown",
   "metadata": {},
   "source": [
    "# Compute features"
   ]
  },
  {
   "cell_type": "code",
   "execution_count": 15,
   "metadata": {},
   "outputs": [],
   "source": [
    "def compute_features(result):\n",
    "    weights = {\n",
    "    'Completeness': {'uniqueness_scores': 0.5, 'missing_ratio': 0.5},\n",
    "    'Precision':    {'permissible_len': 0.33 , 'missing_ratio': 0.33 , 'time_precision': 0.33 },  \n",
    "    'Integrity':    {'duplicate_values': 0.5,'formatting_constraints': 0.5 }, \n",
    "    'Objectivity':  {'uniqueness_scores': 0.5 , 'entropy':0.5 },  \n",
    "    'Conciseness':  {'similarity_score': 0.5 , 'value_ambiguity':0.5 },    \n",
    "    'Uniqueness':   {'uniqueness_scores': 0.7 ,'duplicate_values': 0.1,'richness':0.1,'similarity_score': 0.1 },\n",
    "    'Informativeness': {'entropy':0.2 , 'position':0.2 ,'richness':0.2 ,'time_precision':0.2,'value_ambiguity':0.2 }  \n",
    "    }\n",
    "\n",
    "    # Initialize an empty DataFrame to store the calculated features\n",
    "    output_df = pd.DataFrame(columns= list(weights.keys()))\n",
    "    output_df[['table_name', 'col_name', 'datatype']] = result[['table_name', 'col_name', 'datatype']]\n",
    "    # Initialize empty lists to store table_name, col_name, and datatype\n",
    "\n",
    "    # Calculate features for each metric\n",
    "    for feature, metrics in weights.items():\n",
    "        feature_values = []\n",
    "\n",
    "        for index, row in result.iterrows():\n",
    "            value = 0.0\n",
    "\n",
    "            for metric, weight in metrics.items():\n",
    "                value += weight * row.get(metric, 0.0)\n",
    "\n",
    "            feature_values.append(value)\n",
    "\n",
    "        output_df[feature] = feature_values\n",
    "\n",
    "    feature_df = output_df\n",
    "    return feature_df\n",
    "    # Define the weights for each metric\n"
   ]
  },
  {
   "cell_type": "code",
   "execution_count": 20,
   "metadata": {},
   "outputs": [],
   "source": [
    "def build_training_features(tables_data):  \n",
    "    final_features = pd.DataFrame()\n",
    "    final_metrics_df = pd.DataFrame()\n",
    "    for table_name in list(tables_data.keys()):\n",
    "        print('Computing for:' , table_name)\n",
    "        table_name_ = table_name.upper()\n",
    "        metrics_df = ComputeMetrics(table_name_ , tables_data[table_name][0])\n",
    "        feature_df =  compute_features(metrics_df)\n",
    "        if final_features.empty:\n",
    "            final_metrics_df = metrics_df\n",
    "            final_features = feature_df\n",
    "        else:\n",
    "            final_metrics_df = pd.concat([final_metrics_df , metrics_df], axis=0, ignore_index= True)\n",
    "            final_features = pd.concat([final_features , feature_df], axis=0, ignore_index= True) \n",
    "    return final_features , final_metrics_df"
   ]
  },
  {
   "cell_type": "code",
   "execution_count": 21,
   "metadata": {},
   "outputs": [
    {
     "name": "stdout",
     "output_type": "stream",
     "text": [
      "Computing for: eban\n",
      "Computing for: ekko\n",
      "Computing for: likp\n",
      "Computing for: mkpf\n",
      "Computing for: rbkp\n",
      "Computing for: vbak\n",
      "Computing for: vbrk\n"
     ]
    }
   ],
   "source": [
    "final_features , final_metrics_df = build_training_features(tables_data)"
   ]
  },
  {
   "cell_type": "code",
   "execution_count": 16,
   "metadata": {},
   "outputs": [],
   "source": [
    "#Sampling bkpf separately as it is too heavy to use whole table.\n",
    "bkpf = pd.read_csv(r'D:\\OneDrive - Students RWTH Aachen University\\PADS thesis topic\\SAPDataset\\P2P\\BKPF.csv',encoding= 'unicode_escape'  , low_memory=False)\n",
    "# selecting 30k random rows of bkpf to compute metrics\n",
    "bkpf = bkpf.sample(n=30000)\n",
    "first_50_columns_bkpf = bkpf.columns[:50] #only keeping 50 cols\n",
    "bkpf = bkpf[first_50_columns_bkpf]"
   ]
  },
  {
   "cell_type": "code",
   "execution_count": 17,
   "metadata": {},
   "outputs": [
    {
     "data": {
      "text/plain": [
       "Index(['MANDT', 'BUKRS', 'BELNR', 'GJAHR', 'BLART', 'BLDAT', 'BUDAT', 'MONAT',\n",
       "       'CPUDT', 'CPUTM', 'AEDAT', 'UPDDT', 'WWERT', 'USNAM', 'TCODE', 'BVORG',\n",
       "       'XBLNR', 'DBBLG', 'STBLG', 'STJAH', 'BKTXT', 'WAERS', 'KURSF', 'KZWRS',\n",
       "       'KZKRS', 'BSTAT', 'XNETB', 'FRATH', 'XRUEB', 'GLVOR', 'GRPID', 'DOKID',\n",
       "       'ARCID', 'IBLAR', 'AWTYP', 'AWKEY', 'FIKRS', 'HWAER', 'HWAE2', 'HWAE3',\n",
       "       'KURS2', 'KURS3', 'BASW2', 'BASW3', 'UMRD2', 'UMRD3', 'XSTOV', 'STODT',\n",
       "       'XMWST', 'CURT2'],\n",
       "      dtype='object')"
      ]
     },
     "execution_count": 17,
     "metadata": {},
     "output_type": "execute_result"
    }
   ],
   "source": [
    "bkpf.columns"
   ]
  },
  {
   "cell_type": "code",
   "execution_count": 52,
   "metadata": {},
   "outputs": [],
   "source": [
    "# computing features for bkpf\n",
    "metrics_df_bkpf = ComputeMetrics('BKPF' , bkpf)\n",
    "feature_df_bkpf =  compute_features(metrics_df_bkpf)"
   ]
  },
  {
   "cell_type": "code",
   "execution_count": 60,
   "metadata": {},
   "outputs": [],
   "source": [
    "# adding bkpf features to main features array\n",
    "final_metrics_df = pd.concat([final_metrics_df , metrics_df_bkpf], axis=0, ignore_index= True)\n",
    "final_features = pd.concat([final_features , feature_df_bkpf], axis=0, ignore_index= True)"
   ]
  },
  {
   "cell_type": "markdown",
   "metadata": {},
   "source": [
    "# Data Analysis"
   ]
  },
  {
   "cell_type": "code",
   "execution_count": 68,
   "metadata": {},
   "outputs": [
    {
     "data": {
      "text/plain": [
       "<AxesSubplot:>"
      ]
     },
     "execution_count": 68,
     "metadata": {},
     "output_type": "execute_result"
    },
    {
     "data": {
      "image/png": "[encoded data removed]",
      "text/plain": [
       "<Figure size 640x480 with 1 Axes>"
      ]
     },
     "metadata": {},
     "output_type": "display_data"
    }
   ],
   "source": [
    "final_features['Informativeness'].plot()"
   ]
  },
  {
   "cell_type": "code",
   "execution_count": 69,
   "metadata": {},
   "outputs": [],
   "source": [
    "final_features.to_csv('final_features_03092023_2222.csv' , index = False)\n",
    "final_metrics_df.to_csv('final_metrics_03092023_2222.csv', index = False)"
   ]
  },
  {
   "cell_type": "code",
   "execution_count": 70,
   "metadata": {},
   "outputs": [
    {
     "data": {
      "text/plain": [
       "False"
      ]
     },
     "execution_count": 70,
     "metadata": {},
     "output_type": "execute_result"
    }
   ],
   "source": [
    "final_features.isnull().sum().any() #check for NaN in whole DF"
   ]
  },
  {
   "cell_type": "code",
   "execution_count": 71,
   "metadata": {},
   "outputs": [
    {
     "data": {
      "text/html": [
       "<div>\n",
       "<style scoped>\n",
       "    .dataframe tbody tr th:only-of-type {\n",
       "        vertical-align: middle;\n",
       "    }\n",
       "\n",
       "    .dataframe tbody tr th {\n",
       "        vertical-align: top;\n",
       "    }\n",
       "\n",
       "    .dataframe thead th {\n",
       "        text-align: right;\n",
       "    }\n",
       "</style>\n",
       "<table border=\"1\" class=\"dataframe\">\n",
       "  <thead>\n",
       "    <tr style=\"text-align: right;\">\n",
       "      <th></th>\n",
       "      <th>Completeness</th>\n",
       "      <th>Precision</th>\n",
       "      <th>Integrity</th>\n",
       "      <th>Objectivity</th>\n",
       "      <th>Conciseness</th>\n",
       "      <th>Uniqueness</th>\n",
       "      <th>Informativeness</th>\n",
       "      <th>table_name</th>\n",
       "      <th>col_name</th>\n",
       "      <th>datatype</th>\n",
       "    </tr>\n",
       "  </thead>\n",
       "  <tbody>\n",
       "    <tr>\n",
       "      <th>0</th>\n",
       "      <td>0.005887</td>\n",
       "      <td>0.99198</td>\n",
       "      <td>0.994113</td>\n",
       "      <td>0.094149</td>\n",
       "      <td>0.166667</td>\n",
       "      <td>0.237378</td>\n",
       "      <td>0.437666</td>\n",
       "      <td>EBAN</td>\n",
       "      <td>MANDT</td>\n",
       "      <td>CLNT</td>\n",
       "    </tr>\n",
       "    <tr>\n",
       "      <th>1</th>\n",
       "      <td>0.002309</td>\n",
       "      <td>0.99000</td>\n",
       "      <td>0.997691</td>\n",
       "      <td>0.086561</td>\n",
       "      <td>0.000000</td>\n",
       "      <td>0.203235</td>\n",
       "      <td>0.434629</td>\n",
       "      <td>EBAN</td>\n",
       "      <td>MANDT</td>\n",
       "      <td>CLNT</td>\n",
       "    </tr>\n",
       "    <tr>\n",
       "      <th>2</th>\n",
       "      <td>0.001734</td>\n",
       "      <td>0.99000</td>\n",
       "      <td>0.998266</td>\n",
       "      <td>0.100380</td>\n",
       "      <td>0.000000</td>\n",
       "      <td>0.202429</td>\n",
       "      <td>0.440154</td>\n",
       "      <td>EBAN</td>\n",
       "      <td>MANDT</td>\n",
       "      <td>CLNT</td>\n",
       "    </tr>\n",
       "    <tr>\n",
       "      <th>3</th>\n",
       "      <td>0.002312</td>\n",
       "      <td>0.99000</td>\n",
       "      <td>0.997688</td>\n",
       "      <td>0.102161</td>\n",
       "      <td>0.000000</td>\n",
       "      <td>0.203239</td>\n",
       "      <td>0.440869</td>\n",
       "      <td>EBAN</td>\n",
       "      <td>MANDT</td>\n",
       "      <td>CLNT</td>\n",
       "    </tr>\n",
       "    <tr>\n",
       "      <th>4</th>\n",
       "      <td>0.002312</td>\n",
       "      <td>0.99000</td>\n",
       "      <td>0.997688</td>\n",
       "      <td>0.090962</td>\n",
       "      <td>0.000000</td>\n",
       "      <td>0.203239</td>\n",
       "      <td>0.436389</td>\n",
       "      <td>EBAN</td>\n",
       "      <td>MANDT</td>\n",
       "      <td>CLNT</td>\n",
       "    </tr>\n",
       "  </tbody>\n",
       "</table>\n",
       "</div>"
      ],
      "text/plain": [
       "   Completeness  Precision  Integrity  Objectivity  Conciseness  Uniqueness  \\\n",
       "0      0.005887    0.99198   0.994113     0.094149     0.166667    0.237378   \n",
       "1      0.002309    0.99000   0.997691     0.086561     0.000000    0.203235   \n",
       "2      0.001734    0.99000   0.998266     0.100380     0.000000    0.202429   \n",
       "3      0.002312    0.99000   0.997688     0.102161     0.000000    0.203239   \n",
       "4      0.002312    0.99000   0.997688     0.090962     0.000000    0.203239   \n",
       "\n",
       "   Informativeness table_name col_name datatype  \n",
       "0         0.437666       EBAN    MANDT     CLNT  \n",
       "1         0.434629       EBAN    MANDT     CLNT  \n",
       "2         0.440154       EBAN    MANDT     CLNT  \n",
       "3         0.440869       EBAN    MANDT     CLNT  \n",
       "4         0.436389       EBAN    MANDT     CLNT  "
      ]
     },
     "execution_count": 71,
     "metadata": {},
     "output_type": "execute_result"
    }
   ],
   "source": [
    "final_features.head()"
   ]
  },
  {
   "cell_type": "markdown",
   "metadata": {},
   "source": [
    "# Gaussian Mixture model"
   ]
  },
  {
   "cell_type": "code",
   "execution_count": 86,
   "metadata": {},
   "outputs": [],
   "source": [
    "from sklearn.mixture import GaussianMixture\n",
    "from sklearn.preprocessing import MinMaxScaler"
   ]
  },
  {
   "cell_type": "code",
   "execution_count": 92,
   "metadata": {},
   "outputs": [],
   "source": [
    "final_features_GMM = final_features.copy()"
   ]
  },
  {
   "cell_type": "code",
   "execution_count": 73,
   "metadata": {},
   "outputs": [
    {
     "data": {
      "text/html": [
       "<div>\n",
       "<style scoped>\n",
       "    .dataframe tbody tr th:only-of-type {\n",
       "        vertical-align: middle;\n",
       "    }\n",
       "\n",
       "    .dataframe tbody tr th {\n",
       "        vertical-align: top;\n",
       "    }\n",
       "\n",
       "    .dataframe thead th {\n",
       "        text-align: right;\n",
       "    }\n",
       "</style>\n",
       "<table border=\"1\" class=\"dataframe\">\n",
       "  <thead>\n",
       "    <tr style=\"text-align: right;\">\n",
       "      <th></th>\n",
       "      <th>Completeness</th>\n",
       "      <th>Precision</th>\n",
       "      <th>Integrity</th>\n",
       "      <th>Objectivity</th>\n",
       "      <th>Conciseness</th>\n",
       "      <th>Uniqueness</th>\n",
       "      <th>Informativeness</th>\n",
       "    </tr>\n",
       "  </thead>\n",
       "  <tbody>\n",
       "    <tr>\n",
       "      <th>0</th>\n",
       "      <td>0.005887</td>\n",
       "      <td>0.99198</td>\n",
       "      <td>0.994113</td>\n",
       "      <td>0.094149</td>\n",
       "      <td>0.166667</td>\n",
       "      <td>0.237378</td>\n",
       "      <td>0.437666</td>\n",
       "    </tr>\n",
       "    <tr>\n",
       "      <th>1</th>\n",
       "      <td>0.002309</td>\n",
       "      <td>0.99000</td>\n",
       "      <td>0.997691</td>\n",
       "      <td>0.086561</td>\n",
       "      <td>0.000000</td>\n",
       "      <td>0.203235</td>\n",
       "      <td>0.434629</td>\n",
       "    </tr>\n",
       "    <tr>\n",
       "      <th>2</th>\n",
       "      <td>0.001734</td>\n",
       "      <td>0.99000</td>\n",
       "      <td>0.998266</td>\n",
       "      <td>0.100380</td>\n",
       "      <td>0.000000</td>\n",
       "      <td>0.202429</td>\n",
       "      <td>0.440154</td>\n",
       "    </tr>\n",
       "    <tr>\n",
       "      <th>3</th>\n",
       "      <td>0.002312</td>\n",
       "      <td>0.99000</td>\n",
       "      <td>0.997688</td>\n",
       "      <td>0.102161</td>\n",
       "      <td>0.000000</td>\n",
       "      <td>0.203239</td>\n",
       "      <td>0.440869</td>\n",
       "    </tr>\n",
       "    <tr>\n",
       "      <th>4</th>\n",
       "      <td>0.002312</td>\n",
       "      <td>0.99000</td>\n",
       "      <td>0.997688</td>\n",
       "      <td>0.090962</td>\n",
       "      <td>0.000000</td>\n",
       "      <td>0.203239</td>\n",
       "      <td>0.436389</td>\n",
       "    </tr>\n",
       "  </tbody>\n",
       "</table>\n",
       "</div>"
      ],
      "text/plain": [
       "   Completeness  Precision  Integrity  Objectivity  Conciseness  Uniqueness  \\\n",
       "0      0.005887    0.99198   0.994113     0.094149     0.166667    0.237378   \n",
       "1      0.002309    0.99000   0.997691     0.086561     0.000000    0.203235   \n",
       "2      0.001734    0.99000   0.998266     0.100380     0.000000    0.202429   \n",
       "3      0.002312    0.99000   0.997688     0.102161     0.000000    0.203239   \n",
       "4      0.002312    0.99000   0.997688     0.090962     0.000000    0.203239   \n",
       "\n",
       "   Informativeness  \n",
       "0         0.437666  \n",
       "1         0.434629  \n",
       "2         0.440154  \n",
       "3         0.440869  \n",
       "4         0.436389  "
      ]
     },
     "execution_count": 73,
     "metadata": {},
     "output_type": "execute_result"
    }
   ],
   "source": [
    "X = final_features.drop(['table_name', 'col_name', 'datatype'], axis=1)\n",
    "X.head()"
   ]
  },
  {
   "cell_type": "code",
   "execution_count": 87,
   "metadata": {},
   "outputs": [
    {
     "data": {
      "text/html": [
       "<div>\n",
       "<style scoped>\n",
       "    .dataframe tbody tr th:only-of-type {\n",
       "        vertical-align: middle;\n",
       "    }\n",
       "\n",
       "    .dataframe tbody tr th {\n",
       "        vertical-align: top;\n",
       "    }\n",
       "\n",
       "    .dataframe thead th {\n",
       "        text-align: right;\n",
       "    }\n",
       "</style>\n",
       "<table border=\"1\" class=\"dataframe\">\n",
       "  <thead>\n",
       "    <tr style=\"text-align: right;\">\n",
       "      <th></th>\n",
       "      <th>Completeness</th>\n",
       "      <th>Precision</th>\n",
       "      <th>Integrity</th>\n",
       "      <th>Objectivity</th>\n",
       "      <th>Conciseness</th>\n",
       "      <th>Uniqueness</th>\n",
       "      <th>Informativeness</th>\n",
       "    </tr>\n",
       "  </thead>\n",
       "  <tbody>\n",
       "    <tr>\n",
       "      <th>0</th>\n",
       "      <td>0.006879</td>\n",
       "      <td>0.05015</td>\n",
       "      <td>0.993121</td>\n",
       "      <td>0.017082</td>\n",
       "      <td>0.5</td>\n",
       "      <td>0.000037</td>\n",
       "      <td>0.000019</td>\n",
       "    </tr>\n",
       "    <tr>\n",
       "      <th>1</th>\n",
       "      <td>0.002311</td>\n",
       "      <td>0.05000</td>\n",
       "      <td>0.997689</td>\n",
       "      <td>0.015698</td>\n",
       "      <td>0.0</td>\n",
       "      <td>0.000003</td>\n",
       "      <td>0.000017</td>\n",
       "    </tr>\n",
       "    <tr>\n",
       "      <th>2</th>\n",
       "      <td>0.001576</td>\n",
       "      <td>0.05000</td>\n",
       "      <td>0.998424</td>\n",
       "      <td>0.018218</td>\n",
       "      <td>0.0</td>\n",
       "      <td>0.000002</td>\n",
       "      <td>0.000020</td>\n",
       "    </tr>\n",
       "    <tr>\n",
       "      <th>3</th>\n",
       "      <td>0.002314</td>\n",
       "      <td>0.05000</td>\n",
       "      <td>0.997686</td>\n",
       "      <td>0.018543</td>\n",
       "      <td>0.0</td>\n",
       "      <td>0.000003</td>\n",
       "      <td>0.000020</td>\n",
       "    </tr>\n",
       "    <tr>\n",
       "      <th>4</th>\n",
       "      <td>0.002314</td>\n",
       "      <td>0.05000</td>\n",
       "      <td>0.997686</td>\n",
       "      <td>0.016500</td>\n",
       "      <td>0.0</td>\n",
       "      <td>0.000003</td>\n",
       "      <td>0.000018</td>\n",
       "    </tr>\n",
       "  </tbody>\n",
       "</table>\n",
       "</div>"
      ],
      "text/plain": [
       "   Completeness  Precision  Integrity  Objectivity  Conciseness  Uniqueness  \\\n",
       "0      0.006879    0.05015   0.993121     0.017082          0.5    0.000037   \n",
       "1      0.002311    0.05000   0.997689     0.015698          0.0    0.000003   \n",
       "2      0.001576    0.05000   0.998424     0.018218          0.0    0.000002   \n",
       "3      0.002314    0.05000   0.997686     0.018543          0.0    0.000003   \n",
       "4      0.002314    0.05000   0.997686     0.016500          0.0    0.000003   \n",
       "\n",
       "   Informativeness  \n",
       "0         0.000019  \n",
       "1         0.000017  \n",
       "2         0.000020  \n",
       "3         0.000020  \n",
       "4         0.000018  "
      ]
     },
     "execution_count": 87,
     "metadata": {},
     "output_type": "execute_result"
    }
   ],
   "source": [
    "# Initialize the MinMaxScaler\n",
    "scaler = MinMaxScaler()\n",
    "\n",
    "# Fit and transform the DataFrame\n",
    "X_normalised = scaler.fit_transform(X)\n",
    "\n",
    "# Create a new DataFrame with the normalized data\n",
    "X_normalised = pd.DataFrame(X_normalised, columns=X.columns)\n",
    "\n",
    "X_normalised.head()"
   ]
  },
  {
   "cell_type": "code",
   "execution_count": 99,
   "metadata": {},
   "outputs": [
    {
     "data": {
      "text/plain": [
       "GaussianMixture(n_components=4)"
      ]
     },
     "execution_count": 99,
     "metadata": {},
     "output_type": "execute_result"
    }
   ],
   "source": [
    "# Create a GMM model with the chosen number of components\n",
    "gmm = GaussianMixture(n_components=4)\n",
    "\n",
    "# Fit the model to your data\n",
    "gmm.fit(X_normalised)"
   ]
  },
  {
   "cell_type": "code",
   "execution_count": 98,
   "metadata": {},
   "outputs": [],
   "source": [
    "del(gmm)"
   ]
  },
  {
   "cell_type": "code",
   "execution_count": 100,
   "metadata": {},
   "outputs": [
    {
     "data": {
      "text/plain": [
       "array([[6.38589654e-01, 2.12812785e-01, 3.61410346e-01, 5.05364381e-04,\n",
       "        0.00000000e+00, 2.39468159e-07, 2.85437500e-03],\n",
       "       [1.70154120e-01, 1.17230660e-01, 8.29845880e-01, 7.62655016e-02,\n",
       "        5.06687724e-01, 3.79489204e-05, 1.27739702e-03],\n",
       "       [6.36363771e-01, 2.42736092e-01, 3.63636229e-01, 9.98825184e-01,\n",
       "        1.78247219e-01, 5.09180599e-01, 5.09579268e-01],\n",
       "       [2.66386580e-01, 1.61770342e-01, 7.33613420e-01, 2.59482005e-01,\n",
       "        0.00000000e+00, 1.46173777e-04, 2.44837962e-03]])"
      ]
     },
     "execution_count": 100,
     "metadata": {},
     "output_type": "execute_result"
    }
   ],
   "source": [
    "gmm.means_"
   ]
  },
  {
   "cell_type": "code",
   "execution_count": 75,
   "metadata": {},
   "outputs": [
    {
     "data": {
      "text/plain": [
       "array([[2.91443772e-01, 2.63975124e+00, 7.08556228e-01, 8.25929471e-01,\n",
       "        1.21696455e-02, 2.59521351e-01, 5.33057690e+00],\n",
       "       [5.00006897e-01, 3.30000455e+00, 4.99993103e-01, 5.48268954e+00,\n",
       "        7.42911877e-02, 1.00071486e+03, 2.00279032e+03],\n",
       "       [4.99490023e-01, 3.30000000e+00, 5.00509977e-01, 5.48181460e+00,\n",
       "        6.38513514e-02, 9.87851313e+01, 1.98538876e+02],\n",
       "       [4.77053141e-01, 3.00572573e+00, 5.22946859e-01, 5.40753993e+00,\n",
       "        1.69847321e-02, 9.14334424e+00, 2.22587254e+01]])"
      ]
     },
     "execution_count": 75,
     "metadata": {},
     "output_type": "execute_result"
    }
   ],
   "source": [
    "gmm.means_"
   ]
  },
  {
   "cell_type": "code",
   "execution_count": 37,
   "metadata": {},
   "outputs": [],
   "source": [
    "component_params = []\n",
    "for i in range(4):\n",
    "    mean = gmm.means_[i][0]\n",
    "    std_dev = np.sqrt(gmm.covariances_[i][0][0])\n",
    "    component_params.append((mean, std_dev))"
   ]
  },
  {
   "cell_type": "code",
   "execution_count": 38,
   "metadata": {},
   "outputs": [
    {
     "data": {
      "text/plain": [
       "[(0.26055087787043935, 0.1922255890843493),\n",
       " (0.5000068965517241, 0.0010034186510616864),\n",
       " (0.49871744937424445, 0.0024865166157250654),\n",
       " (0.32415907576740144, 0.22412902206322108)]"
      ]
     },
     "execution_count": 38,
     "metadata": {},
     "output_type": "execute_result"
    }
   ],
   "source": [
    "component_params"
   ]
  },
  {
   "cell_type": "code",
   "execution_count": 101,
   "metadata": {},
   "outputs": [],
   "source": [
    "cluster_assignments = gmm.predict(X)\n",
    "final_features_GMM['Cluster'] = cluster_assignments"
   ]
  },
  {
   "cell_type": "code",
   "execution_count": 102,
   "metadata": {},
   "outputs": [
    {
     "data": {
      "text/html": [
       "<div>\n",
       "<style scoped>\n",
       "    .dataframe tbody tr th:only-of-type {\n",
       "        vertical-align: middle;\n",
       "    }\n",
       "\n",
       "    .dataframe tbody tr th {\n",
       "        vertical-align: top;\n",
       "    }\n",
       "\n",
       "    .dataframe thead th {\n",
       "        text-align: right;\n",
       "    }\n",
       "</style>\n",
       "<table border=\"1\" class=\"dataframe\">\n",
       "  <thead>\n",
       "    <tr style=\"text-align: right;\">\n",
       "      <th></th>\n",
       "      <th>Completeness</th>\n",
       "      <th>Precision</th>\n",
       "      <th>Integrity</th>\n",
       "      <th>Objectivity</th>\n",
       "      <th>Conciseness</th>\n",
       "      <th>Uniqueness</th>\n",
       "      <th>Informativeness</th>\n",
       "      <th>table_name</th>\n",
       "      <th>col_name</th>\n",
       "      <th>datatype</th>\n",
       "      <th>Cluster</th>\n",
       "    </tr>\n",
       "  </thead>\n",
       "  <tbody>\n",
       "    <tr>\n",
       "      <th>0</th>\n",
       "      <td>0.005887</td>\n",
       "      <td>0.99198</td>\n",
       "      <td>0.994113</td>\n",
       "      <td>0.094149</td>\n",
       "      <td>0.166667</td>\n",
       "      <td>0.237378</td>\n",
       "      <td>0.437666</td>\n",
       "      <td>EBAN</td>\n",
       "      <td>MANDT</td>\n",
       "      <td>CLNT</td>\n",
       "      <td>1</td>\n",
       "    </tr>\n",
       "    <tr>\n",
       "      <th>1</th>\n",
       "      <td>0.002309</td>\n",
       "      <td>0.99000</td>\n",
       "      <td>0.997691</td>\n",
       "      <td>0.086561</td>\n",
       "      <td>0.000000</td>\n",
       "      <td>0.203235</td>\n",
       "      <td>0.434629</td>\n",
       "      <td>EBAN</td>\n",
       "      <td>MANDT</td>\n",
       "      <td>CLNT</td>\n",
       "      <td>3</td>\n",
       "    </tr>\n",
       "    <tr>\n",
       "      <th>2</th>\n",
       "      <td>0.001734</td>\n",
       "      <td>0.99000</td>\n",
       "      <td>0.998266</td>\n",
       "      <td>0.100380</td>\n",
       "      <td>0.000000</td>\n",
       "      <td>0.202429</td>\n",
       "      <td>0.440154</td>\n",
       "      <td>EBAN</td>\n",
       "      <td>MANDT</td>\n",
       "      <td>CLNT</td>\n",
       "      <td>3</td>\n",
       "    </tr>\n",
       "    <tr>\n",
       "      <th>3</th>\n",
       "      <td>0.002312</td>\n",
       "      <td>0.99000</td>\n",
       "      <td>0.997688</td>\n",
       "      <td>0.102161</td>\n",
       "      <td>0.000000</td>\n",
       "      <td>0.203239</td>\n",
       "      <td>0.440869</td>\n",
       "      <td>EBAN</td>\n",
       "      <td>MANDT</td>\n",
       "      <td>CLNT</td>\n",
       "      <td>3</td>\n",
       "    </tr>\n",
       "    <tr>\n",
       "      <th>4</th>\n",
       "      <td>0.002312</td>\n",
       "      <td>0.99000</td>\n",
       "      <td>0.997688</td>\n",
       "      <td>0.090962</td>\n",
       "      <td>0.000000</td>\n",
       "      <td>0.203239</td>\n",
       "      <td>0.436389</td>\n",
       "      <td>EBAN</td>\n",
       "      <td>MANDT</td>\n",
       "      <td>CLNT</td>\n",
       "      <td>3</td>\n",
       "    </tr>\n",
       "    <tr>\n",
       "      <th>...</th>\n",
       "      <td>...</td>\n",
       "      <td>...</td>\n",
       "      <td>...</td>\n",
       "      <td>...</td>\n",
       "      <td>...</td>\n",
       "      <td>...</td>\n",
       "      <td>...</td>\n",
       "      <td>...</td>\n",
       "      <td>...</td>\n",
       "      <td>...</td>\n",
       "      <td>...</td>\n",
       "    </tr>\n",
       "    <tr>\n",
       "      <th>8303</th>\n",
       "      <td>0.001000</td>\n",
       "      <td>0.66000</td>\n",
       "      <td>0.999000</td>\n",
       "      <td>0.001000</td>\n",
       "      <td>0.000000</td>\n",
       "      <td>0.201400</td>\n",
       "      <td>10.200401</td>\n",
       "      <td>BKPF</td>\n",
       "      <td>CURT2</td>\n",
       "      <td>CHAR</td>\n",
       "      <td>3</td>\n",
       "    </tr>\n",
       "    <tr>\n",
       "      <th>8304</th>\n",
       "      <td>0.002500</td>\n",
       "      <td>0.66099</td>\n",
       "      <td>0.997500</td>\n",
       "      <td>0.015732</td>\n",
       "      <td>0.000000</td>\n",
       "      <td>0.201400</td>\n",
       "      <td>10.206294</td>\n",
       "      <td>BKPF</td>\n",
       "      <td>CURT2</td>\n",
       "      <td>CHAR</td>\n",
       "      <td>3</td>\n",
       "    </tr>\n",
       "    <tr>\n",
       "      <th>8305</th>\n",
       "      <td>0.002000</td>\n",
       "      <td>0.66066</td>\n",
       "      <td>0.998000</td>\n",
       "      <td>0.019811</td>\n",
       "      <td>0.000000</td>\n",
       "      <td>0.201400</td>\n",
       "      <td>10.207925</td>\n",
       "      <td>BKPF</td>\n",
       "      <td>CURT2</td>\n",
       "      <td>CHAR</td>\n",
       "      <td>3</td>\n",
       "    </tr>\n",
       "    <tr>\n",
       "      <th>8306</th>\n",
       "      <td>0.001500</td>\n",
       "      <td>0.66033</td>\n",
       "      <td>0.998500</td>\n",
       "      <td>0.011407</td>\n",
       "      <td>0.000000</td>\n",
       "      <td>0.201400</td>\n",
       "      <td>10.204564</td>\n",
       "      <td>BKPF</td>\n",
       "      <td>CURT2</td>\n",
       "      <td>CHAR</td>\n",
       "      <td>3</td>\n",
       "    </tr>\n",
       "    <tr>\n",
       "      <th>8307</th>\n",
       "      <td>0.002500</td>\n",
       "      <td>0.66099</td>\n",
       "      <td>0.997500</td>\n",
       "      <td>0.006704</td>\n",
       "      <td>0.250000</td>\n",
       "      <td>0.251400</td>\n",
       "      <td>10.202682</td>\n",
       "      <td>BKPF</td>\n",
       "      <td>CURT2</td>\n",
       "      <td>CHAR</td>\n",
       "      <td>3</td>\n",
       "    </tr>\n",
       "  </tbody>\n",
       "</table>\n",
       "<p>8308 rows × 11 columns</p>\n",
       "</div>"
      ],
      "text/plain": [
       "      Completeness  Precision  Integrity  Objectivity  Conciseness  \\\n",
       "0         0.005887    0.99198   0.994113     0.094149     0.166667   \n",
       "1         0.002309    0.99000   0.997691     0.086561     0.000000   \n",
       "2         0.001734    0.99000   0.998266     0.100380     0.000000   \n",
       "3         0.002312    0.99000   0.997688     0.102161     0.000000   \n",
       "4         0.002312    0.99000   0.997688     0.090962     0.000000   \n",
       "...            ...        ...        ...          ...          ...   \n",
       "8303      0.001000    0.66000   0.999000     0.001000     0.000000   \n",
       "8304      0.002500    0.66099   0.997500     0.015732     0.000000   \n",
       "8305      0.002000    0.66066   0.998000     0.019811     0.000000   \n",
       "8306      0.001500    0.66033   0.998500     0.011407     0.000000   \n",
       "8307      0.002500    0.66099   0.997500     0.006704     0.250000   \n",
       "\n",
       "      Uniqueness  Informativeness table_name col_name datatype  Cluster  \n",
       "0       0.237378         0.437666       EBAN    MANDT     CLNT        1  \n",
       "1       0.203235         0.434629       EBAN    MANDT     CLNT        3  \n",
       "2       0.202429         0.440154       EBAN    MANDT     CLNT        3  \n",
       "3       0.203239         0.440869       EBAN    MANDT     CLNT        3  \n",
       "4       0.203239         0.436389       EBAN    MANDT     CLNT        3  \n",
       "...          ...              ...        ...      ...      ...      ...  \n",
       "8303    0.201400        10.200401       BKPF    CURT2     CHAR        3  \n",
       "8304    0.201400        10.206294       BKPF    CURT2     CHAR        3  \n",
       "8305    0.201400        10.207925       BKPF    CURT2     CHAR        3  \n",
       "8306    0.201400        10.204564       BKPF    CURT2     CHAR        3  \n",
       "8307    0.251400        10.202682       BKPF    CURT2     CHAR        3  \n",
       "\n",
       "[8308 rows x 11 columns]"
      ]
     },
     "execution_count": 102,
     "metadata": {},
     "output_type": "execute_result"
    }
   ],
   "source": [
    "final_features_GMM"
   ]
  },
  {
   "cell_type": "code",
   "execution_count": 85,
   "metadata": {},
   "outputs": [
    {
     "data": {
      "text/plain": [
       "(array(['BKPF', 'EBAN', 'EKKO', 'LIKP', 'MKPF', 'RBKP', 'VBAK', 'VBRK'],\n",
       "       dtype=object),\n",
       " array([1500,  250,  850,  800, 2664,  300,  144, 1800], dtype=int64))"
      ]
     },
     "execution_count": 85,
     "metadata": {},
     "output_type": "execute_result"
    }
   ],
   "source": [
    "np.unique(final_features_GMM['table_name'] , return_counts= True)"
   ]
  },
  {
   "cell_type": "code",
   "execution_count": 103,
   "metadata": {},
   "outputs": [
    {
     "data": {
      "text/plain": [
       "(array([1, 2, 3], dtype=int64), array([ 130,  639, 7539], dtype=int64))"
      ]
     },
     "execution_count": 103,
     "metadata": {},
     "output_type": "execute_result"
    }
   ],
   "source": [
    "np.unique(final_features_GMM['Cluster'] , return_counts= True)"
   ]
  },
  {
   "cell_type": "code",
   "execution_count": 78,
   "metadata": {},
   "outputs": [
    {
     "data": {
      "text/plain": [
       "(array([0, 1, 2, 3], dtype=int64),\n",
       " array([7864,  145,   37,  262], dtype=int64))"
      ]
     },
     "execution_count": 78,
     "metadata": {},
     "output_type": "execute_result"
    }
   ],
   "source": [
    "np.unique(final_features_GMM['Cluster'] , return_counts= True)"
   ]
  },
  {
   "cell_type": "code",
   "execution_count": 44,
   "metadata": {},
   "outputs": [
    {
     "data": {
      "text/html": [
       "<div>\n",
       "<style scoped>\n",
       "    .dataframe tbody tr th:only-of-type {\n",
       "        vertical-align: middle;\n",
       "    }\n",
       "\n",
       "    .dataframe tbody tr th {\n",
       "        vertical-align: top;\n",
       "    }\n",
       "\n",
       "    .dataframe thead th {\n",
       "        text-align: right;\n",
       "    }\n",
       "</style>\n",
       "<table border=\"1\" class=\"dataframe\">\n",
       "  <thead>\n",
       "    <tr style=\"text-align: right;\">\n",
       "      <th></th>\n",
       "      <th>MANDT</th>\n",
       "      <th>BELNR</th>\n",
       "      <th>GJAHR</th>\n",
       "      <th>BLART</th>\n",
       "      <th>BLDAT</th>\n",
       "      <th>BUDAT</th>\n",
       "      <th>USNAM</th>\n",
       "      <th>TCODE</th>\n",
       "      <th>CPUDT</th>\n",
       "      <th>CPUTM</th>\n",
       "      <th>...</th>\n",
       "      <th>REPART</th>\n",
       "      <th>RBSTAT</th>\n",
       "      <th>KNUMVE</th>\n",
       "      <th>KNUMVL</th>\n",
       "      <th>ARKUEN</th>\n",
       "      <th>ARKUEMW</th>\n",
       "      <th>MAKZN</th>\n",
       "      <th>MAKZMW</th>\n",
       "      <th>LIEFFN</th>\n",
       "      <th>LIEFFMW</th>\n",
       "    </tr>\n",
       "  </thead>\n",
       "  <tbody>\n",
       "    <tr>\n",
       "      <th>0</th>\n",
       "      <td>800</td>\n",
       "      <td>5105609642</td>\n",
       "      <td>2022</td>\n",
       "      <td>RE</td>\n",
       "      <td>20221001</td>\n",
       "      <td>20220901</td>\n",
       "      <td>HKARIMI</td>\n",
       "      <td>MIRO</td>\n",
       "      <td>20221001</td>\n",
       "      <td>2914</td>\n",
       "      <td>...</td>\n",
       "      <td></td>\n",
       "      <td>5</td>\n",
       "      <td></td>\n",
       "      <td></td>\n",
       "      <td>0</td>\n",
       "      <td>0</td>\n",
       "      <td>0</td>\n",
       "      <td>0</td>\n",
       "      <td>0</td>\n",
       "      <td>0</td>\n",
       "    </tr>\n",
       "    <tr>\n",
       "      <th>1</th>\n",
       "      <td>800</td>\n",
       "      <td>5105609643</td>\n",
       "      <td>2022</td>\n",
       "      <td>RE</td>\n",
       "      <td>20220927</td>\n",
       "      <td>20220927</td>\n",
       "      <td>HKARIMI</td>\n",
       "      <td>MIRO</td>\n",
       "      <td>20221001</td>\n",
       "      <td>50439</td>\n",
       "      <td>...</td>\n",
       "      <td></td>\n",
       "      <td>5</td>\n",
       "      <td></td>\n",
       "      <td></td>\n",
       "      <td>0</td>\n",
       "      <td>0</td>\n",
       "      <td>0</td>\n",
       "      <td>0</td>\n",
       "      <td>0</td>\n",
       "      <td>0</td>\n",
       "    </tr>\n",
       "    <tr>\n",
       "      <th>2</th>\n",
       "      <td>800</td>\n",
       "      <td>5105609644</td>\n",
       "      <td>2022</td>\n",
       "      <td>RE</td>\n",
       "      <td>20220831</td>\n",
       "      <td>20220831</td>\n",
       "      <td>HKARIMI</td>\n",
       "      <td>MIRO</td>\n",
       "      <td>20221001</td>\n",
       "      <td>225635</td>\n",
       "      <td>...</td>\n",
       "      <td></td>\n",
       "      <td>5</td>\n",
       "      <td></td>\n",
       "      <td></td>\n",
       "      <td>0</td>\n",
       "      <td>0</td>\n",
       "      <td>0</td>\n",
       "      <td>0</td>\n",
       "      <td>0</td>\n",
       "      <td>0</td>\n",
       "    </tr>\n",
       "    <tr>\n",
       "      <th>3</th>\n",
       "      <td>800</td>\n",
       "      <td>5105609645</td>\n",
       "      <td>2022</td>\n",
       "      <td>RE</td>\n",
       "      <td>20220927</td>\n",
       "      <td>20220802</td>\n",
       "      <td>HKARIMI</td>\n",
       "      <td>MIRO</td>\n",
       "      <td>20221002</td>\n",
       "      <td>64925</td>\n",
       "      <td>...</td>\n",
       "      <td></td>\n",
       "      <td>5</td>\n",
       "      <td></td>\n",
       "      <td></td>\n",
       "      <td>0</td>\n",
       "      <td>0</td>\n",
       "      <td>0</td>\n",
       "      <td>0</td>\n",
       "      <td>0</td>\n",
       "      <td>0</td>\n",
       "    </tr>\n",
       "    <tr>\n",
       "      <th>4</th>\n",
       "      <td>800</td>\n",
       "      <td>5105609646</td>\n",
       "      <td>2022</td>\n",
       "      <td>RE</td>\n",
       "      <td>20221003</td>\n",
       "      <td>20220908</td>\n",
       "      <td>HKARIMI</td>\n",
       "      <td>MIRO</td>\n",
       "      <td>20221003</td>\n",
       "      <td>23731</td>\n",
       "      <td>...</td>\n",
       "      <td></td>\n",
       "      <td>5</td>\n",
       "      <td></td>\n",
       "      <td></td>\n",
       "      <td>0</td>\n",
       "      <td>0</td>\n",
       "      <td>0</td>\n",
       "      <td>0</td>\n",
       "      <td>0</td>\n",
       "      <td>0</td>\n",
       "    </tr>\n",
       "    <tr>\n",
       "      <th>...</th>\n",
       "      <td>...</td>\n",
       "      <td>...</td>\n",
       "      <td>...</td>\n",
       "      <td>...</td>\n",
       "      <td>...</td>\n",
       "      <td>...</td>\n",
       "      <td>...</td>\n",
       "      <td>...</td>\n",
       "      <td>...</td>\n",
       "      <td>...</td>\n",
       "      <td>...</td>\n",
       "      <td>...</td>\n",
       "      <td>...</td>\n",
       "      <td>...</td>\n",
       "      <td>...</td>\n",
       "      <td>...</td>\n",
       "      <td>...</td>\n",
       "      <td>...</td>\n",
       "      <td>...</td>\n",
       "      <td>...</td>\n",
       "      <td>...</td>\n",
       "    </tr>\n",
       "    <tr>\n",
       "      <th>5724</th>\n",
       "      <td>800</td>\n",
       "      <td>5800000030</td>\n",
       "      <td>2008</td>\n",
       "      <td>KP</td>\n",
       "      <td>20080103</td>\n",
       "      <td>20080103</td>\n",
       "      <td>ZECHA</td>\n",
       "      <td>MR11</td>\n",
       "      <td>20080103</td>\n",
       "      <td>131357</td>\n",
       "      <td>...</td>\n",
       "      <td></td>\n",
       "      <td>5</td>\n",
       "      <td></td>\n",
       "      <td></td>\n",
       "      <td>0</td>\n",
       "      <td>0</td>\n",
       "      <td>0</td>\n",
       "      <td>0</td>\n",
       "      <td>0</td>\n",
       "      <td>0</td>\n",
       "    </tr>\n",
       "    <tr>\n",
       "      <th>5725</th>\n",
       "      <td>810</td>\n",
       "      <td>3</td>\n",
       "      <td>1995</td>\n",
       "      <td>RN</td>\n",
       "      <td>19950622</td>\n",
       "      <td>19950622</td>\n",
       "      <td>DUENGELHOEF</td>\n",
       "      <td>MR1M</td>\n",
       "      <td>19950622</td>\n",
       "      <td>172114</td>\n",
       "      <td>...</td>\n",
       "      <td></td>\n",
       "      <td></td>\n",
       "      <td></td>\n",
       "      <td></td>\n",
       "      <td>0</td>\n",
       "      <td>0</td>\n",
       "      <td>0</td>\n",
       "      <td>0</td>\n",
       "      <td>0</td>\n",
       "      <td>0</td>\n",
       "    </tr>\n",
       "    <tr>\n",
       "      <th>5726</th>\n",
       "      <td>810</td>\n",
       "      <td>4</td>\n",
       "      <td>1995</td>\n",
       "      <td>RN</td>\n",
       "      <td>19950622</td>\n",
       "      <td>19950622</td>\n",
       "      <td>DUENGELHOEF</td>\n",
       "      <td>MR1M</td>\n",
       "      <td>19950622</td>\n",
       "      <td>174659</td>\n",
       "      <td>...</td>\n",
       "      <td></td>\n",
       "      <td></td>\n",
       "      <td></td>\n",
       "      <td></td>\n",
       "      <td>0</td>\n",
       "      <td>0</td>\n",
       "      <td>0</td>\n",
       "      <td>0</td>\n",
       "      <td>0</td>\n",
       "      <td>0</td>\n",
       "    </tr>\n",
       "    <tr>\n",
       "      <th>5727</th>\n",
       "      <td>810</td>\n",
       "      <td>5</td>\n",
       "      <td>1995</td>\n",
       "      <td>RN</td>\n",
       "      <td>19950703</td>\n",
       "      <td>19950703</td>\n",
       "      <td>DUENGELHOEF</td>\n",
       "      <td>MR1M</td>\n",
       "      <td>19950703</td>\n",
       "      <td>162015</td>\n",
       "      <td>...</td>\n",
       "      <td></td>\n",
       "      <td></td>\n",
       "      <td></td>\n",
       "      <td></td>\n",
       "      <td>0</td>\n",
       "      <td>0</td>\n",
       "      <td>0</td>\n",
       "      <td>0</td>\n",
       "      <td>0</td>\n",
       "      <td>0</td>\n",
       "    </tr>\n",
       "    <tr>\n",
       "      <th>5728</th>\n",
       "      <td>811</td>\n",
       "      <td>5181100000</td>\n",
       "      <td>2003</td>\n",
       "      <td>RE</td>\n",
       "      <td>20031204</td>\n",
       "      <td>20031204</td>\n",
       "      <td>GRAUENHORST</td>\n",
       "      <td>MIRO</td>\n",
       "      <td>20031204</td>\n",
       "      <td>134441</td>\n",
       "      <td>...</td>\n",
       "      <td></td>\n",
       "      <td>5</td>\n",
       "      <td></td>\n",
       "      <td></td>\n",
       "      <td>0</td>\n",
       "      <td>0</td>\n",
       "      <td>0</td>\n",
       "      <td>0</td>\n",
       "      <td>0</td>\n",
       "      <td>0</td>\n",
       "    </tr>\n",
       "  </tbody>\n",
       "</table>\n",
       "<p>5729 rows × 50 columns</p>\n",
       "</div>"
      ],
      "text/plain": [
       "      MANDT       BELNR  GJAHR BLART     BLDAT     BUDAT        USNAM TCODE  \\\n",
       "0       800  5105609642   2022    RE  20221001  20220901      HKARIMI  MIRO   \n",
       "1       800  5105609643   2022    RE  20220927  20220927      HKARIMI  MIRO   \n",
       "2       800  5105609644   2022    RE  20220831  20220831      HKARIMI  MIRO   \n",
       "3       800  5105609645   2022    RE  20220927  20220802      HKARIMI  MIRO   \n",
       "4       800  5105609646   2022    RE  20221003  20220908      HKARIMI  MIRO   \n",
       "...     ...         ...    ...   ...       ...       ...          ...   ...   \n",
       "5724    800  5800000030   2008    KP  20080103  20080103        ZECHA  MR11   \n",
       "5725    810           3   1995    RN  19950622  19950622  DUENGELHOEF  MR1M   \n",
       "5726    810           4   1995    RN  19950622  19950622  DUENGELHOEF  MR1M   \n",
       "5727    810           5   1995    RN  19950703  19950703  DUENGELHOEF  MR1M   \n",
       "5728    811  5181100000   2003    RE  20031204  20031204  GRAUENHORST  MIRO   \n",
       "\n",
       "         CPUDT   CPUTM  ... REPART RBSTAT KNUMVE KNUMVL ARKUEN  ARKUEMW  \\\n",
       "0     20221001    2914  ...             5                    0        0   \n",
       "1     20221001   50439  ...             5                    0        0   \n",
       "2     20221001  225635  ...             5                    0        0   \n",
       "3     20221002   64925  ...             5                    0        0   \n",
       "4     20221003   23731  ...             5                    0        0   \n",
       "...        ...     ...  ...    ...    ...    ...    ...    ...      ...   \n",
       "5724  20080103  131357  ...             5                    0        0   \n",
       "5725  19950622  172114  ...                                  0        0   \n",
       "5726  19950622  174659  ...                                  0        0   \n",
       "5727  19950703  162015  ...                                  0        0   \n",
       "5728  20031204  134441  ...             5                    0        0   \n",
       "\n",
       "      MAKZN  MAKZMW  LIEFFN LIEFFMW  \n",
       "0         0       0       0       0  \n",
       "1         0       0       0       0  \n",
       "2         0       0       0       0  \n",
       "3         0       0       0       0  \n",
       "4         0       0       0       0  \n",
       "...     ...     ...     ...     ...  \n",
       "5724      0       0       0       0  \n",
       "5725      0       0       0       0  \n",
       "5726      0       0       0       0  \n",
       "5727      0       0       0       0  \n",
       "5728      0       0       0       0  \n",
       "\n",
       "[5729 rows x 50 columns]"
      ]
     },
     "execution_count": 44,
     "metadata": {},
     "output_type": "execute_result"
    }
   ],
   "source": [
    "tables_data['rbkp'][0]"
   ]
  },
  {
   "cell_type": "code",
   "execution_count": 46,
   "metadata": {},
   "outputs": [
    {
     "data": {
      "text/plain": [
       "dict_keys(['eban', 'ekko', 'likp', 'mkpf', 'rbkp', 'vbak', 'vbrk'])"
      ]
     },
     "execution_count": 46,
     "metadata": {},
     "output_type": "execute_result"
    }
   ],
   "source": [
    "tables_data.keys()"
   ]
  },
  {
   "cell_type": "code",
   "execution_count": 45,
   "metadata": {},
   "outputs": [
    {
     "data": {
      "text/plain": [
       "{'BKPF', 'EBAN', 'EKKO', 'LIKP', 'LTAK', 'MKPF', 'RBKP', 'VBAK', 'VBRK'}"
      ]
     },
     "execution_count": 45,
     "metadata": {},
     "output_type": "execute_result"
    }
   ],
   "source": [
    "tables_to_consider = ['MKPF' , 'LIKP' , 'VBAK' , 'LTAK' , 'EKKO' , 'MKPF' , 'RBKP' , 'BKPF' , 'EBAN' ,\n",
    "                      'VBAK' , 'LIKP' , 'VBRK' , 'VBRK']\n",
    "\n",
    "tables_to_consider = set(tables_to_consider)\n",
    "tables_to_consider"
   ]
  }
 ],
 "metadata": {
  "kernelspec": {
   "display_name": "base",
   "language": "python",
   "name": "python3"
  },
  "language_info": {
   "codemirror_mode": {
    "name": "ipython",
    "version": 3
   },
   "file_extension": ".py",
   "mimetype": "text/x-python",
   "name": "python",
   "nbconvert_exporter": "python",
   "pygments_lexer": "ipython3",
   "version": "3.9.13"
  },
  "orig_nbformat": 4
 },
 "nbformat": 4,
 "nbformat_minor": 2
}
