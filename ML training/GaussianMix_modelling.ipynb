{
 "cells": [
  {
   "cell_type": "code",
   "execution_count": 1,
   "metadata": {},
   "outputs": [],
   "source": [
    "import pandas as pd\n",
    "import numpy as np\n",
    "import scipy\n",
    "from sklearn.mixture import GaussianMixture\n",
    "from sklearn.preprocessing import LabelEncoder\n",
    "import pickle"
   ]
  },
  {
   "cell_type": "code",
   "execution_count": 2,
   "metadata": {},
   "outputs": [],
   "source": [
    "features = pd.read_csv(r'D:\\OneDrive - Students RWTH Aachen University\\PADS thesis topic\\SAPDataset\\ML Features files\\final_features_03092023_2222.csv')"
   ]
  },
  {
   "cell_type": "code",
   "execution_count": 3,
   "metadata": {},
   "outputs": [
    {
     "data": {
      "text/html": [
       "<div>\n",
       "<style scoped>\n",
       "    .dataframe tbody tr th:only-of-type {\n",
       "        vertical-align: middle;\n",
       "    }\n",
       "\n",
       "    .dataframe tbody tr th {\n",
       "        vertical-align: top;\n",
       "    }\n",
       "\n",
       "    .dataframe thead th {\n",
       "        text-align: right;\n",
       "    }\n",
       "</style>\n",
       "<table border=\"1\" class=\"dataframe\">\n",
       "  <thead>\n",
       "    <tr style=\"text-align: right;\">\n",
       "      <th></th>\n",
       "      <th>Completeness</th>\n",
       "      <th>Precision</th>\n",
       "      <th>Integrity</th>\n",
       "      <th>Objectivity</th>\n",
       "      <th>Conciseness</th>\n",
       "      <th>Uniqueness</th>\n",
       "      <th>Informativeness</th>\n",
       "      <th>table_name</th>\n",
       "      <th>col_name</th>\n",
       "      <th>datatype</th>\n",
       "    </tr>\n",
       "  </thead>\n",
       "  <tbody>\n",
       "    <tr>\n",
       "      <th>0</th>\n",
       "      <td>0.005887</td>\n",
       "      <td>0.99198</td>\n",
       "      <td>0.994113</td>\n",
       "      <td>0.094149</td>\n",
       "      <td>0.166667</td>\n",
       "      <td>0.237378</td>\n",
       "      <td>0.437666</td>\n",
       "      <td>EBAN</td>\n",
       "      <td>MANDT</td>\n",
       "      <td>CLNT</td>\n",
       "    </tr>\n",
       "    <tr>\n",
       "      <th>1</th>\n",
       "      <td>0.002309</td>\n",
       "      <td>0.99000</td>\n",
       "      <td>0.997691</td>\n",
       "      <td>0.086561</td>\n",
       "      <td>0.000000</td>\n",
       "      <td>0.203235</td>\n",
       "      <td>0.434629</td>\n",
       "      <td>EBAN</td>\n",
       "      <td>MANDT</td>\n",
       "      <td>CLNT</td>\n",
       "    </tr>\n",
       "    <tr>\n",
       "      <th>2</th>\n",
       "      <td>0.001734</td>\n",
       "      <td>0.99000</td>\n",
       "      <td>0.998266</td>\n",
       "      <td>0.100380</td>\n",
       "      <td>0.000000</td>\n",
       "      <td>0.202429</td>\n",
       "      <td>0.440154</td>\n",
       "      <td>EBAN</td>\n",
       "      <td>MANDT</td>\n",
       "      <td>CLNT</td>\n",
       "    </tr>\n",
       "    <tr>\n",
       "      <th>3</th>\n",
       "      <td>0.002312</td>\n",
       "      <td>0.99000</td>\n",
       "      <td>0.997688</td>\n",
       "      <td>0.102161</td>\n",
       "      <td>0.000000</td>\n",
       "      <td>0.203239</td>\n",
       "      <td>0.440869</td>\n",
       "      <td>EBAN</td>\n",
       "      <td>MANDT</td>\n",
       "      <td>CLNT</td>\n",
       "    </tr>\n",
       "    <tr>\n",
       "      <th>4</th>\n",
       "      <td>0.002312</td>\n",
       "      <td>0.99000</td>\n",
       "      <td>0.997688</td>\n",
       "      <td>0.090962</td>\n",
       "      <td>0.000000</td>\n",
       "      <td>0.203239</td>\n",
       "      <td>0.436389</td>\n",
       "      <td>EBAN</td>\n",
       "      <td>MANDT</td>\n",
       "      <td>CLNT</td>\n",
       "    </tr>\n",
       "    <tr>\n",
       "      <th>...</th>\n",
       "      <td>...</td>\n",
       "      <td>...</td>\n",
       "      <td>...</td>\n",
       "      <td>...</td>\n",
       "      <td>...</td>\n",
       "      <td>...</td>\n",
       "      <td>...</td>\n",
       "      <td>...</td>\n",
       "      <td>...</td>\n",
       "      <td>...</td>\n",
       "    </tr>\n",
       "    <tr>\n",
       "      <th>8303</th>\n",
       "      <td>0.001000</td>\n",
       "      <td>0.66000</td>\n",
       "      <td>0.999000</td>\n",
       "      <td>0.001000</td>\n",
       "      <td>0.000000</td>\n",
       "      <td>0.201400</td>\n",
       "      <td>10.200401</td>\n",
       "      <td>BKPF</td>\n",
       "      <td>CURT2</td>\n",
       "      <td>CHAR</td>\n",
       "    </tr>\n",
       "    <tr>\n",
       "      <th>8304</th>\n",
       "      <td>0.002500</td>\n",
       "      <td>0.66099</td>\n",
       "      <td>0.997500</td>\n",
       "      <td>0.015732</td>\n",
       "      <td>0.000000</td>\n",
       "      <td>0.201400</td>\n",
       "      <td>10.206294</td>\n",
       "      <td>BKPF</td>\n",
       "      <td>CURT2</td>\n",
       "      <td>CHAR</td>\n",
       "    </tr>\n",
       "    <tr>\n",
       "      <th>8305</th>\n",
       "      <td>0.002000</td>\n",
       "      <td>0.66066</td>\n",
       "      <td>0.998000</td>\n",
       "      <td>0.019811</td>\n",
       "      <td>0.000000</td>\n",
       "      <td>0.201400</td>\n",
       "      <td>10.207925</td>\n",
       "      <td>BKPF</td>\n",
       "      <td>CURT2</td>\n",
       "      <td>CHAR</td>\n",
       "    </tr>\n",
       "    <tr>\n",
       "      <th>8306</th>\n",
       "      <td>0.001500</td>\n",
       "      <td>0.66033</td>\n",
       "      <td>0.998500</td>\n",
       "      <td>0.011407</td>\n",
       "      <td>0.000000</td>\n",
       "      <td>0.201400</td>\n",
       "      <td>10.204564</td>\n",
       "      <td>BKPF</td>\n",
       "      <td>CURT2</td>\n",
       "      <td>CHAR</td>\n",
       "    </tr>\n",
       "    <tr>\n",
       "      <th>8307</th>\n",
       "      <td>0.002500</td>\n",
       "      <td>0.66099</td>\n",
       "      <td>0.997500</td>\n",
       "      <td>0.006704</td>\n",
       "      <td>0.250000</td>\n",
       "      <td>0.251400</td>\n",
       "      <td>10.202682</td>\n",
       "      <td>BKPF</td>\n",
       "      <td>CURT2</td>\n",
       "      <td>CHAR</td>\n",
       "    </tr>\n",
       "  </tbody>\n",
       "</table>\n",
       "<p>8308 rows × 10 columns</p>\n",
       "</div>"
      ],
      "text/plain": [
       "      Completeness  Precision  Integrity  Objectivity  Conciseness  \\\n",
       "0         0.005887    0.99198   0.994113     0.094149     0.166667   \n",
       "1         0.002309    0.99000   0.997691     0.086561     0.000000   \n",
       "2         0.001734    0.99000   0.998266     0.100380     0.000000   \n",
       "3         0.002312    0.99000   0.997688     0.102161     0.000000   \n",
       "4         0.002312    0.99000   0.997688     0.090962     0.000000   \n",
       "...            ...        ...        ...          ...          ...   \n",
       "8303      0.001000    0.66000   0.999000     0.001000     0.000000   \n",
       "8304      0.002500    0.66099   0.997500     0.015732     0.000000   \n",
       "8305      0.002000    0.66066   0.998000     0.019811     0.000000   \n",
       "8306      0.001500    0.66033   0.998500     0.011407     0.000000   \n",
       "8307      0.002500    0.66099   0.997500     0.006704     0.250000   \n",
       "\n",
       "      Uniqueness  Informativeness table_name col_name datatype  \n",
       "0       0.237378         0.437666       EBAN    MANDT     CLNT  \n",
       "1       0.203235         0.434629       EBAN    MANDT     CLNT  \n",
       "2       0.202429         0.440154       EBAN    MANDT     CLNT  \n",
       "3       0.203239         0.440869       EBAN    MANDT     CLNT  \n",
       "4       0.203239         0.436389       EBAN    MANDT     CLNT  \n",
       "...          ...              ...        ...      ...      ...  \n",
       "8303    0.201400        10.200401       BKPF    CURT2     CHAR  \n",
       "8304    0.201400        10.206294       BKPF    CURT2     CHAR  \n",
       "8305    0.201400        10.207925       BKPF    CURT2     CHAR  \n",
       "8306    0.201400        10.204564       BKPF    CURT2     CHAR  \n",
       "8307    0.251400        10.202682       BKPF    CURT2     CHAR  \n",
       "\n",
       "[8308 rows x 10 columns]"
      ]
     },
     "execution_count": 3,
     "metadata": {},
     "output_type": "execute_result"
    }
   ],
   "source": [
    "features"
   ]
  },
  {
   "cell_type": "code",
   "execution_count": null,
   "metadata": {},
   "outputs": [],
   "source": [
    "metrics = pd.read_csv(r'D:\\OneDrive - Students RWTH Aachen University\\PADS thesis topic\\SAPDataset\\ML Features files\\final_metrics_03092023_2222.csv')"
   ]
  },
  {
   "cell_type": "code",
   "execution_count": 4,
   "metadata": {},
   "outputs": [],
   "source": [
    "final_features_GMM = features.copy()"
   ]
  },
  {
   "cell_type": "code",
   "execution_count": 4,
   "metadata": {},
   "outputs": [
    {
     "data": {
      "text/html": [
       "<div>\n",
       "<style scoped>\n",
       "    .dataframe tbody tr th:only-of-type {\n",
       "        vertical-align: middle;\n",
       "    }\n",
       "\n",
       "    .dataframe tbody tr th {\n",
       "        vertical-align: top;\n",
       "    }\n",
       "\n",
       "    .dataframe thead th {\n",
       "        text-align: right;\n",
       "    }\n",
       "</style>\n",
       "<table border=\"1\" class=\"dataframe\">\n",
       "  <thead>\n",
       "    <tr style=\"text-align: right;\">\n",
       "      <th></th>\n",
       "      <th>Completeness</th>\n",
       "      <th>Precision</th>\n",
       "      <th>Integrity</th>\n",
       "      <th>Objectivity</th>\n",
       "      <th>Conciseness</th>\n",
       "      <th>Uniqueness</th>\n",
       "      <th>Informativeness</th>\n",
       "      <th>datatype</th>\n",
       "    </tr>\n",
       "  </thead>\n",
       "  <tbody>\n",
       "    <tr>\n",
       "      <th>0</th>\n",
       "      <td>0.005887</td>\n",
       "      <td>0.99198</td>\n",
       "      <td>0.994113</td>\n",
       "      <td>0.094149</td>\n",
       "      <td>0.166667</td>\n",
       "      <td>0.237378</td>\n",
       "      <td>0.437666</td>\n",
       "      <td>CLNT</td>\n",
       "    </tr>\n",
       "    <tr>\n",
       "      <th>1</th>\n",
       "      <td>0.002309</td>\n",
       "      <td>0.99000</td>\n",
       "      <td>0.997691</td>\n",
       "      <td>0.086561</td>\n",
       "      <td>0.000000</td>\n",
       "      <td>0.203235</td>\n",
       "      <td>0.434629</td>\n",
       "      <td>CLNT</td>\n",
       "    </tr>\n",
       "    <tr>\n",
       "      <th>2</th>\n",
       "      <td>0.001734</td>\n",
       "      <td>0.99000</td>\n",
       "      <td>0.998266</td>\n",
       "      <td>0.100380</td>\n",
       "      <td>0.000000</td>\n",
       "      <td>0.202429</td>\n",
       "      <td>0.440154</td>\n",
       "      <td>CLNT</td>\n",
       "    </tr>\n",
       "    <tr>\n",
       "      <th>3</th>\n",
       "      <td>0.002312</td>\n",
       "      <td>0.99000</td>\n",
       "      <td>0.997688</td>\n",
       "      <td>0.102161</td>\n",
       "      <td>0.000000</td>\n",
       "      <td>0.203239</td>\n",
       "      <td>0.440869</td>\n",
       "      <td>CLNT</td>\n",
       "    </tr>\n",
       "    <tr>\n",
       "      <th>4</th>\n",
       "      <td>0.002312</td>\n",
       "      <td>0.99000</td>\n",
       "      <td>0.997688</td>\n",
       "      <td>0.090962</td>\n",
       "      <td>0.000000</td>\n",
       "      <td>0.203239</td>\n",
       "      <td>0.436389</td>\n",
       "      <td>CLNT</td>\n",
       "    </tr>\n",
       "  </tbody>\n",
       "</table>\n",
       "</div>"
      ],
      "text/plain": [
       "   Completeness  Precision  Integrity  Objectivity  Conciseness  Uniqueness  \\\n",
       "0      0.005887    0.99198   0.994113     0.094149     0.166667    0.237378   \n",
       "1      0.002309    0.99000   0.997691     0.086561     0.000000    0.203235   \n",
       "2      0.001734    0.99000   0.998266     0.100380     0.000000    0.202429   \n",
       "3      0.002312    0.99000   0.997688     0.102161     0.000000    0.203239   \n",
       "4      0.002312    0.99000   0.997688     0.090962     0.000000    0.203239   \n",
       "\n",
       "   Informativeness datatype  \n",
       "0         0.437666     CLNT  \n",
       "1         0.434629     CLNT  \n",
       "2         0.440154     CLNT  \n",
       "3         0.440869     CLNT  \n",
       "4         0.436389     CLNT  "
      ]
     },
     "execution_count": 4,
     "metadata": {},
     "output_type": "execute_result"
    }
   ],
   "source": [
    "train_data = features.drop(['table_name', 'col_name'], axis=1)\n",
    "train_data.head()"
   ]
  },
  {
   "cell_type": "code",
   "execution_count": 19,
   "metadata": {},
   "outputs": [],
   "source": [
    "encoder = LabelEncoder()"
   ]
  },
  {
   "cell_type": "code",
   "execution_count": 21,
   "metadata": {},
   "outputs": [],
   "source": [
    "# geting an exhaustive set of datatypes from dd03l for datatype encoding to numbers\n",
    "dd03l = pd.read_csv('D:\\OneDrive - Students RWTH Aachen University\\PADS thesis topic\\SAPDataset\\DD03L.csv'  , encoding= 'unicode_escape', low_memory= False )"
   ]
  },
  {
   "cell_type": "code",
   "execution_count": 23,
   "metadata": {},
   "outputs": [
    {
     "name": "stdout",
     "output_type": "stream",
     "text": [
      "Mapping: {' ': 0, 'ACCP': 1, 'CHAR': 2, 'CLNT': 3, 'CUKY': 4, 'CURR': 5, 'D16D': 6, 'D16R': 7, 'D16S': 8, 'D34D': 9, 'D34R': 10, 'D34S': 11, 'DATS': 12, 'DEC': 13, 'FLTP': 14, 'INT1': 15, 'INT2': 16, 'INT4': 17, 'INT8': 18, 'LANG': 19, 'LCHR': 20, 'LRAW': 21, 'NUMC': 22, 'PREC': 23, 'QUAN': 24, 'RAW': 25, 'REF': 26, 'RSTR': 27, 'SSTR': 28, 'STRG': 29, 'STRU': 30, 'TIMS': 31, 'TTYP': 32, 'UNIT': 33}\n"
     ]
    }
   ],
   "source": [
    "encoder.fit(dd03l['DATATYPE'])\n",
    "print(\"Mapping:\", dict(zip(encoder.classes_, encoder.transform(encoder.classes_))))"
   ]
  },
  {
   "cell_type": "code",
   "execution_count": 25,
   "metadata": {},
   "outputs": [],
   "source": [
    "# Save the mapping to a pkl file\n",
    "with open('datatype_encoding_mapping.pkl', 'wb') as f:\n",
    "    pickle.dump(dict(zip(encoder.classes_, encoder.transform(encoder.classes_))), f)"
   ]
  },
  {
   "cell_type": "code",
   "execution_count": 5,
   "metadata": {},
   "outputs": [],
   "source": [
    "# load the pkl file \n",
    "with open('datatype_encoding_mapping.pkl', 'rb') as f:\n",
    "    datatype_encoding_mapping = pickle.load(f)"
   ]
  },
  {
   "cell_type": "code",
   "execution_count": 6,
   "metadata": {},
   "outputs": [],
   "source": [
    "# encode the datatype in train data with mapping from pkl\n",
    "train_data['EncodedDatatype'] = train_data['datatype'].map(datatype_encoding_mapping)\n",
    "train_data = train_data.drop(['datatype'] , axis =1)"
   ]
  },
  {
   "cell_type": "code",
   "execution_count": 7,
   "metadata": {},
   "outputs": [
    {
     "data": {
      "text/html": [
       "<div>\n",
       "<style scoped>\n",
       "    .dataframe tbody tr th:only-of-type {\n",
       "        vertical-align: middle;\n",
       "    }\n",
       "\n",
       "    .dataframe tbody tr th {\n",
       "        vertical-align: top;\n",
       "    }\n",
       "\n",
       "    .dataframe thead th {\n",
       "        text-align: right;\n",
       "    }\n",
       "</style>\n",
       "<table border=\"1\" class=\"dataframe\">\n",
       "  <thead>\n",
       "    <tr style=\"text-align: right;\">\n",
       "      <th></th>\n",
       "      <th>Completeness</th>\n",
       "      <th>Precision</th>\n",
       "      <th>Integrity</th>\n",
       "      <th>Objectivity</th>\n",
       "      <th>Conciseness</th>\n",
       "      <th>Uniqueness</th>\n",
       "      <th>Informativeness</th>\n",
       "      <th>EncodedDatatype</th>\n",
       "    </tr>\n",
       "  </thead>\n",
       "  <tbody>\n",
       "    <tr>\n",
       "      <th>0</th>\n",
       "      <td>0.005887</td>\n",
       "      <td>0.99198</td>\n",
       "      <td>0.994113</td>\n",
       "      <td>0.094149</td>\n",
       "      <td>0.166667</td>\n",
       "      <td>0.237378</td>\n",
       "      <td>0.437666</td>\n",
       "      <td>3</td>\n",
       "    </tr>\n",
       "    <tr>\n",
       "      <th>1</th>\n",
       "      <td>0.002309</td>\n",
       "      <td>0.99000</td>\n",
       "      <td>0.997691</td>\n",
       "      <td>0.086561</td>\n",
       "      <td>0.000000</td>\n",
       "      <td>0.203235</td>\n",
       "      <td>0.434629</td>\n",
       "      <td>3</td>\n",
       "    </tr>\n",
       "    <tr>\n",
       "      <th>2</th>\n",
       "      <td>0.001734</td>\n",
       "      <td>0.99000</td>\n",
       "      <td>0.998266</td>\n",
       "      <td>0.100380</td>\n",
       "      <td>0.000000</td>\n",
       "      <td>0.202429</td>\n",
       "      <td>0.440154</td>\n",
       "      <td>3</td>\n",
       "    </tr>\n",
       "    <tr>\n",
       "      <th>3</th>\n",
       "      <td>0.002312</td>\n",
       "      <td>0.99000</td>\n",
       "      <td>0.997688</td>\n",
       "      <td>0.102161</td>\n",
       "      <td>0.000000</td>\n",
       "      <td>0.203239</td>\n",
       "      <td>0.440869</td>\n",
       "      <td>3</td>\n",
       "    </tr>\n",
       "    <tr>\n",
       "      <th>4</th>\n",
       "      <td>0.002312</td>\n",
       "      <td>0.99000</td>\n",
       "      <td>0.997688</td>\n",
       "      <td>0.090962</td>\n",
       "      <td>0.000000</td>\n",
       "      <td>0.203239</td>\n",
       "      <td>0.436389</td>\n",
       "      <td>3</td>\n",
       "    </tr>\n",
       "    <tr>\n",
       "      <th>...</th>\n",
       "      <td>...</td>\n",
       "      <td>...</td>\n",
       "      <td>...</td>\n",
       "      <td>...</td>\n",
       "      <td>...</td>\n",
       "      <td>...</td>\n",
       "      <td>...</td>\n",
       "      <td>...</td>\n",
       "    </tr>\n",
       "    <tr>\n",
       "      <th>8303</th>\n",
       "      <td>0.001000</td>\n",
       "      <td>0.66000</td>\n",
       "      <td>0.999000</td>\n",
       "      <td>0.001000</td>\n",
       "      <td>0.000000</td>\n",
       "      <td>0.201400</td>\n",
       "      <td>10.200401</td>\n",
       "      <td>2</td>\n",
       "    </tr>\n",
       "    <tr>\n",
       "      <th>8304</th>\n",
       "      <td>0.002500</td>\n",
       "      <td>0.66099</td>\n",
       "      <td>0.997500</td>\n",
       "      <td>0.015732</td>\n",
       "      <td>0.000000</td>\n",
       "      <td>0.201400</td>\n",
       "      <td>10.206294</td>\n",
       "      <td>2</td>\n",
       "    </tr>\n",
       "    <tr>\n",
       "      <th>8305</th>\n",
       "      <td>0.002000</td>\n",
       "      <td>0.66066</td>\n",
       "      <td>0.998000</td>\n",
       "      <td>0.019811</td>\n",
       "      <td>0.000000</td>\n",
       "      <td>0.201400</td>\n",
       "      <td>10.207925</td>\n",
       "      <td>2</td>\n",
       "    </tr>\n",
       "    <tr>\n",
       "      <th>8306</th>\n",
       "      <td>0.001500</td>\n",
       "      <td>0.66033</td>\n",
       "      <td>0.998500</td>\n",
       "      <td>0.011407</td>\n",
       "      <td>0.000000</td>\n",
       "      <td>0.201400</td>\n",
       "      <td>10.204564</td>\n",
       "      <td>2</td>\n",
       "    </tr>\n",
       "    <tr>\n",
       "      <th>8307</th>\n",
       "      <td>0.002500</td>\n",
       "      <td>0.66099</td>\n",
       "      <td>0.997500</td>\n",
       "      <td>0.006704</td>\n",
       "      <td>0.250000</td>\n",
       "      <td>0.251400</td>\n",
       "      <td>10.202682</td>\n",
       "      <td>2</td>\n",
       "    </tr>\n",
       "  </tbody>\n",
       "</table>\n",
       "<p>8308 rows × 8 columns</p>\n",
       "</div>"
      ],
      "text/plain": [
       "      Completeness  Precision  Integrity  Objectivity  Conciseness  \\\n",
       "0         0.005887    0.99198   0.994113     0.094149     0.166667   \n",
       "1         0.002309    0.99000   0.997691     0.086561     0.000000   \n",
       "2         0.001734    0.99000   0.998266     0.100380     0.000000   \n",
       "3         0.002312    0.99000   0.997688     0.102161     0.000000   \n",
       "4         0.002312    0.99000   0.997688     0.090962     0.000000   \n",
       "...            ...        ...        ...          ...          ...   \n",
       "8303      0.001000    0.66000   0.999000     0.001000     0.000000   \n",
       "8304      0.002500    0.66099   0.997500     0.015732     0.000000   \n",
       "8305      0.002000    0.66066   0.998000     0.019811     0.000000   \n",
       "8306      0.001500    0.66033   0.998500     0.011407     0.000000   \n",
       "8307      0.002500    0.66099   0.997500     0.006704     0.250000   \n",
       "\n",
       "      Uniqueness  Informativeness  EncodedDatatype  \n",
       "0       0.237378         0.437666                3  \n",
       "1       0.203235         0.434629                3  \n",
       "2       0.202429         0.440154                3  \n",
       "3       0.203239         0.440869                3  \n",
       "4       0.203239         0.436389                3  \n",
       "...          ...              ...              ...  \n",
       "8303    0.201400        10.200401                2  \n",
       "8304    0.201400        10.206294                2  \n",
       "8305    0.201400        10.207925                2  \n",
       "8306    0.201400        10.204564                2  \n",
       "8307    0.251400        10.202682                2  \n",
       "\n",
       "[8308 rows x 8 columns]"
      ]
     },
     "execution_count": 7,
     "metadata": {},
     "output_type": "execute_result"
    }
   ],
   "source": [
    "train_data"
   ]
  },
  {
   "cell_type": "markdown",
   "metadata": {},
   "source": [
    "# GMM"
   ]
  },
  {
   "cell_type": "code",
   "execution_count": 13,
   "metadata": {},
   "outputs": [
    {
     "data": {
      "text/plain": [
       "GaussianMixture(n_components=4)"
      ]
     },
     "execution_count": 13,
     "metadata": {},
     "output_type": "execute_result"
    }
   ],
   "source": [
    "# Create a GMM model with the chosen number of components\n",
    "gmm = GaussianMixture(n_components=4)\n",
    "\n",
    "# Fit the model to your data\n",
    "gmm.fit(train_data)"
   ]
  },
  {
   "cell_type": "code",
   "execution_count": 15,
   "metadata": {},
   "outputs": [],
   "source": [
    "cluster_assignments = gmm.predict(train_data) #predict clusters for the columns\n",
    "final_features_GMM['Cluster'] = cluster_assignments #save clusters assigned to columns"
   ]
  },
  {
   "cell_type": "code",
   "execution_count": 16,
   "metadata": {},
   "outputs": [
    {
     "data": {
      "text/plain": [
       "(array([0, 1, 2, 3], dtype=int64),\n",
       " array([5121,  145,   91, 2951], dtype=int64))"
      ]
     },
     "execution_count": 16,
     "metadata": {},
     "output_type": "execute_result"
    }
   ],
   "source": [
    "np.unique(final_features_GMM['Cluster'] , return_counts= True)"
   ]
  },
  {
   "cell_type": "code",
   "execution_count": 18,
   "metadata": {},
   "outputs": [],
   "source": [
    "# group the data by maximum assignment to improve reliability of result\n",
    "# Since data has multiple instnances of same column from SAP table, we predict the clusters for all instances\n",
    "# next we assign the cluster to that column which has been predicted for it the maximum number of times.\n",
    "# This improves the reliability of the predictions.  \n",
    "result_df = final_features_GMM.groupby(['table_name', 'col_name'])['Cluster'].apply(lambda x: x.value_counts().idxmax()).reset_index()\n",
    "result_df.rename(columns={'cluster': 'most_common_cluster'}, inplace=True)"
   ]
  },
  {
   "cell_type": "code",
   "execution_count": 20,
   "metadata": {},
   "outputs": [
    {
     "data": {
      "text/html": [
       "<div>\n",
       "<style scoped>\n",
       "    .dataframe tbody tr th:only-of-type {\n",
       "        vertical-align: middle;\n",
       "    }\n",
       "\n",
       "    .dataframe tbody tr th {\n",
       "        vertical-align: top;\n",
       "    }\n",
       "\n",
       "    .dataframe thead th {\n",
       "        text-align: right;\n",
       "    }\n",
       "</style>\n",
       "<table border=\"1\" class=\"dataframe\">\n",
       "  <thead>\n",
       "    <tr style=\"text-align: right;\">\n",
       "      <th></th>\n",
       "      <th>table_name</th>\n",
       "      <th>col_name</th>\n",
       "      <th>Cluster</th>\n",
       "    </tr>\n",
       "  </thead>\n",
       "  <tbody>\n",
       "    <tr>\n",
       "      <th>0</th>\n",
       "      <td>BKPF</td>\n",
       "      <td>AEDAT</td>\n",
       "      <td>3</td>\n",
       "    </tr>\n",
       "    <tr>\n",
       "      <th>1</th>\n",
       "      <td>BKPF</td>\n",
       "      <td>ARCID</td>\n",
       "      <td>0</td>\n",
       "    </tr>\n",
       "    <tr>\n",
       "      <th>2</th>\n",
       "      <td>BKPF</td>\n",
       "      <td>AWKEY</td>\n",
       "      <td>0</td>\n",
       "    </tr>\n",
       "    <tr>\n",
       "      <th>3</th>\n",
       "      <td>BKPF</td>\n",
       "      <td>AWTYP</td>\n",
       "      <td>0</td>\n",
       "    </tr>\n",
       "    <tr>\n",
       "      <th>4</th>\n",
       "      <td>BKPF</td>\n",
       "      <td>BASW2</td>\n",
       "      <td>0</td>\n",
       "    </tr>\n",
       "    <tr>\n",
       "      <th>...</th>\n",
       "      <td>...</td>\n",
       "      <td>...</td>\n",
       "      <td>...</td>\n",
       "    </tr>\n",
       "    <tr>\n",
       "      <th>340</th>\n",
       "      <td>VBRK</td>\n",
       "      <td>VTWEG</td>\n",
       "      <td>0</td>\n",
       "    </tr>\n",
       "    <tr>\n",
       "      <th>341</th>\n",
       "      <td>VBRK</td>\n",
       "      <td>WAERK</td>\n",
       "      <td>3</td>\n",
       "    </tr>\n",
       "    <tr>\n",
       "      <th>342</th>\n",
       "      <td>VBRK</td>\n",
       "      <td>ZLSCH</td>\n",
       "      <td>0</td>\n",
       "    </tr>\n",
       "    <tr>\n",
       "      <th>343</th>\n",
       "      <td>VBRK</td>\n",
       "      <td>ZTERM</td>\n",
       "      <td>0</td>\n",
       "    </tr>\n",
       "    <tr>\n",
       "      <th>344</th>\n",
       "      <td>VBRK</td>\n",
       "      <td>ZUKRI</td>\n",
       "      <td>0</td>\n",
       "    </tr>\n",
       "  </tbody>\n",
       "</table>\n",
       "<p>345 rows × 3 columns</p>\n",
       "</div>"
      ],
      "text/plain": [
       "    table_name col_name  Cluster\n",
       "0         BKPF    AEDAT        3\n",
       "1         BKPF    ARCID        0\n",
       "2         BKPF    AWKEY        0\n",
       "3         BKPF    AWTYP        0\n",
       "4         BKPF    BASW2        0\n",
       "..         ...      ...      ...\n",
       "340       VBRK    VTWEG        0\n",
       "341       VBRK    WAERK        3\n",
       "342       VBRK    ZLSCH        0\n",
       "343       VBRK    ZTERM        0\n",
       "344       VBRK    ZUKRI        0\n",
       "\n",
       "[345 rows x 3 columns]"
      ]
     },
     "execution_count": 20,
     "metadata": {},
     "output_type": "execute_result"
    }
   ],
   "source": [
    "result_df"
   ]
  },
  {
   "cell_type": "code",
   "execution_count": 24,
   "metadata": {},
   "outputs": [],
   "source": [
    "# Define a mapping dictionary\n",
    "mapping = {0: 'A', 1: 'B', 2: 'C', 3: 'D'}\n",
    "\n",
    "# Use the map function to replace values in the 'clusters' column\n",
    "result_df['Cluster'] = result_df['Cluster'].map(mapping)\n"
   ]
  },
  {
   "cell_type": "code",
   "execution_count": 25,
   "metadata": {},
   "outputs": [
    {
     "data": {
      "text/plain": [
       "(array(['A', 'B', 'C', 'D'], dtype=object),\n",
       " array([207,   6,   3, 129], dtype=int64))"
      ]
     },
     "execution_count": 25,
     "metadata": {},
     "output_type": "execute_result"
    }
   ],
   "source": [
    "np.unique(result_df['Cluster'] , return_counts= True)"
   ]
  },
  {
   "cell_type": "code",
   "execution_count": 26,
   "metadata": {},
   "outputs": [],
   "source": [
    "result_df.to_csv('ML_GMM_Clustered_COLS_05092023.csv', index = False )"
   ]
  },
  {
   "cell_type": "code",
   "execution_count": 27,
   "metadata": {},
   "outputs": [],
   "source": [
    "import joblib"
   ]
  },
  {
   "cell_type": "code",
   "execution_count": 28,
   "metadata": {},
   "outputs": [
    {
     "data": {
      "text/plain": [
       "['gmm_model.pkl']"
      ]
     },
     "execution_count": 28,
     "metadata": {},
     "output_type": "execute_result"
    }
   ],
   "source": [
    "# Save the GMM model to a file\n",
    "joblib.dump(gmm, 'gmm_model.pkl')\n",
    "\n",
    "# Load the saved GMM model from a file\n",
    "# loaded_gmm = joblib.load('gmm_model.pkl')"
   ]
  },
  {
   "cell_type": "markdown",
   "metadata": {},
   "source": [
    "# PCA"
   ]
  },
  {
   "cell_type": "code",
   "execution_count": 16,
   "metadata": {},
   "outputs": [],
   "source": [
    "from sklearn.preprocessing import StandardScaler\n",
    "from sklearn.decomposition import PCA\n",
    "import matplotlib.pyplot as plt"
   ]
  },
  {
   "cell_type": "code",
   "execution_count": 9,
   "metadata": {},
   "outputs": [],
   "source": [
    "# Step 1: Standardize your data\n",
    "scaler = StandardScaler()\n",
    "scaled_data = scaler.fit_transform(train_data)"
   ]
  },
  {
   "cell_type": "code",
   "execution_count": 13,
   "metadata": {},
   "outputs": [
    {
     "data": {
      "text/plain": [
       "PCA(n_components=8)"
      ]
     },
     "execution_count": 13,
     "metadata": {},
     "output_type": "execute_result"
    }
   ],
   "source": [
    "# Step 2: Perform PCA\n",
    "n_components = 8  # Number of features\n",
    "pca = PCA(n_components=n_components)\n",
    "pca.fit(scaled_data)"
   ]
  },
  {
   "cell_type": "code",
   "execution_count": 14,
   "metadata": {},
   "outputs": [],
   "source": [
    "# Step 3: Retrieve explained variances\n",
    "explained_variances = pca.explained_variance_ratio_\n",
    "\n",
    "# Step 4: Sort features by importance in descending order\n",
    "feature_importance = list(enumerate(explained_variances))\n",
    "feature_importance.sort(key=lambda x: x[1], reverse=True)"
   ]
  },
  {
   "cell_type": "code",
   "execution_count": 15,
   "metadata": {},
   "outputs": [
    {
     "name": "stdout",
     "output_type": "stream",
     "text": [
      "Feature 0: Importance = 0.3041\n",
      "Feature 1: Importance = 0.2567\n",
      "Feature 2: Importance = 0.1574\n",
      "Feature 3: Importance = 0.1177\n",
      "Feature 4: Importance = 0.1055\n",
      "Feature 5: Importance = 0.0585\n",
      "Feature 6: Importance = 0.0000\n",
      "Feature 7: Importance = 0.0000\n"
     ]
    }
   ],
   "source": [
    "# Now, 'feature_importance' contains the indices and importance values of features\n",
    "# in descending order of importance. You can print or use this information as needed.\n",
    "for idx, importance in feature_importance:\n",
    "    print(f\"Feature {idx}: Importance = {importance:.4f}\")"
   ]
  },
  {
   "cell_type": "markdown",
   "metadata": {},
   "source": [
    "# Cluster plot"
   ]
  },
  {
   "cell_type": "code",
   "execution_count": null,
   "metadata": {},
   "outputs": [],
   "source": [
    "# Load the saved GMM model\n",
    "with open('gmm_model.pkl', 'rb') as file:\n",
    "    gmm_model = pickle.load(file)\n",
    "\n",
    "# Assuming you have your data in a variable called 'data'\n",
    "# Make sure your data has the same number of features (8) as your trained GMM\n",
    "# You can use the 'predict' method to assign data points to clusters\n",
    "cluster_assignments = gmm_model.predict(train_data)\n",
    "\n",
    "# Now, you can create a scatter plot with different colors for each cluster\n",
    "# You can choose any two features to visualize; for example, features 0 and 1\n",
    "feature_x = 0  # Replace with the index of the feature you want on the x-axis\n",
    "feature_y = 1  # Replace with the index of the feature you want on the y-axis\n",
    "\n",
    "# Scatter plot\n",
    "plt.figure(figsize=(8, 6))\n",
    "plt.scatter(train_data[:, feature_x], train_data[:, feature_y], c=cluster_assignments, cmap='viridis')\n",
    "plt.title('GMM Clusters')\n",
    "plt.xlabel(f'Feature {feature_x}')\n",
    "plt.ylabel(f'Feature {feature_y}')\n",
    "plt.colorbar()\n",
    "plt.show()"
   ]
  },
  {
   "cell_type": "code",
   "execution_count": 19,
   "metadata": {},
   "outputs": [],
   "source": [
    "from joblib import load\n"
   ]
  },
  {
   "cell_type": "code",
   "execution_count": 21,
   "metadata": {},
   "outputs": [
    {
     "data": {
      "text/plain": [
       "GaussianMixture(n_components=4)"
      ]
     },
     "execution_count": 21,
     "metadata": {},
     "output_type": "execute_result"
    }
   ],
   "source": [
    "load('gmm_model.pkl')"
   ]
  },
  {
   "cell_type": "code",
   "execution_count": 22,
   "metadata": {},
   "outputs": [],
   "source": [
    "loaded_gmm = load('gmm_model.pkl')\n",
    "cluster_assignments = loaded_gmm.predict(train_data)"
   ]
  },
  {
   "cell_type": "code",
   "execution_count": 24,
   "metadata": {},
   "outputs": [
    {
     "data": {
      "text/plain": [
       "array([3, 3, 3, ..., 0, 0, 3], dtype=int64)"
      ]
     },
     "execution_count": 24,
     "metadata": {},
     "output_type": "execute_result"
    }
   ],
   "source": [
    "cluster_assignments"
   ]
  },
  {
   "cell_type": "code",
   "execution_count": 35,
   "metadata": {},
   "outputs": [
    {
     "data": {
      "text/plain": [
       "(array([0, 1, 2, 3], dtype=int64),\n",
       " array([5121,  145,   91, 2951], dtype=int64))"
      ]
     },
     "execution_count": 35,
     "metadata": {},
     "output_type": "execute_result"
    }
   ],
   "source": [
    "np.unique(cluster_assignments , return_counts=True)"
   ]
  },
  {
   "cell_type": "code",
   "execution_count": 29,
   "metadata": {},
   "outputs": [
    {
     "data": {
      "text/html": [
       "<div>\n",
       "<style scoped>\n",
       "    .dataframe tbody tr th:only-of-type {\n",
       "        vertical-align: middle;\n",
       "    }\n",
       "\n",
       "    .dataframe tbody tr th {\n",
       "        vertical-align: top;\n",
       "    }\n",
       "\n",
       "    .dataframe thead th {\n",
       "        text-align: right;\n",
       "    }\n",
       "</style>\n",
       "<table border=\"1\" class=\"dataframe\">\n",
       "  <thead>\n",
       "    <tr style=\"text-align: right;\">\n",
       "      <th></th>\n",
       "      <th>Completeness</th>\n",
       "      <th>Precision</th>\n",
       "      <th>Integrity</th>\n",
       "      <th>Objectivity</th>\n",
       "      <th>Conciseness</th>\n",
       "      <th>Uniqueness</th>\n",
       "      <th>Informativeness</th>\n",
       "      <th>EncodedDatatype</th>\n",
       "    </tr>\n",
       "  </thead>\n",
       "  <tbody>\n",
       "    <tr>\n",
       "      <th>0</th>\n",
       "      <td>0.005887</td>\n",
       "      <td>0.99198</td>\n",
       "      <td>0.994113</td>\n",
       "      <td>0.094149</td>\n",
       "      <td>0.166667</td>\n",
       "      <td>0.237378</td>\n",
       "      <td>0.437666</td>\n",
       "      <td>3</td>\n",
       "    </tr>\n",
       "    <tr>\n",
       "      <th>1</th>\n",
       "      <td>0.002309</td>\n",
       "      <td>0.99000</td>\n",
       "      <td>0.997691</td>\n",
       "      <td>0.086561</td>\n",
       "      <td>0.000000</td>\n",
       "      <td>0.203235</td>\n",
       "      <td>0.434629</td>\n",
       "      <td>3</td>\n",
       "    </tr>\n",
       "    <tr>\n",
       "      <th>2</th>\n",
       "      <td>0.001734</td>\n",
       "      <td>0.99000</td>\n",
       "      <td>0.998266</td>\n",
       "      <td>0.100380</td>\n",
       "      <td>0.000000</td>\n",
       "      <td>0.202429</td>\n",
       "      <td>0.440154</td>\n",
       "      <td>3</td>\n",
       "    </tr>\n",
       "    <tr>\n",
       "      <th>3</th>\n",
       "      <td>0.002312</td>\n",
       "      <td>0.99000</td>\n",
       "      <td>0.997688</td>\n",
       "      <td>0.102161</td>\n",
       "      <td>0.000000</td>\n",
       "      <td>0.203239</td>\n",
       "      <td>0.440869</td>\n",
       "      <td>3</td>\n",
       "    </tr>\n",
       "    <tr>\n",
       "      <th>4</th>\n",
       "      <td>0.002312</td>\n",
       "      <td>0.99000</td>\n",
       "      <td>0.997688</td>\n",
       "      <td>0.090962</td>\n",
       "      <td>0.000000</td>\n",
       "      <td>0.203239</td>\n",
       "      <td>0.436389</td>\n",
       "      <td>3</td>\n",
       "    </tr>\n",
       "    <tr>\n",
       "      <th>...</th>\n",
       "      <td>...</td>\n",
       "      <td>...</td>\n",
       "      <td>...</td>\n",
       "      <td>...</td>\n",
       "      <td>...</td>\n",
       "      <td>...</td>\n",
       "      <td>...</td>\n",
       "      <td>...</td>\n",
       "    </tr>\n",
       "    <tr>\n",
       "      <th>8303</th>\n",
       "      <td>0.001000</td>\n",
       "      <td>0.66000</td>\n",
       "      <td>0.999000</td>\n",
       "      <td>0.001000</td>\n",
       "      <td>0.000000</td>\n",
       "      <td>0.201400</td>\n",
       "      <td>10.200401</td>\n",
       "      <td>2</td>\n",
       "    </tr>\n",
       "    <tr>\n",
       "      <th>8304</th>\n",
       "      <td>0.002500</td>\n",
       "      <td>0.66099</td>\n",
       "      <td>0.997500</td>\n",
       "      <td>0.015732</td>\n",
       "      <td>0.000000</td>\n",
       "      <td>0.201400</td>\n",
       "      <td>10.206294</td>\n",
       "      <td>2</td>\n",
       "    </tr>\n",
       "    <tr>\n",
       "      <th>8305</th>\n",
       "      <td>0.002000</td>\n",
       "      <td>0.66066</td>\n",
       "      <td>0.998000</td>\n",
       "      <td>0.019811</td>\n",
       "      <td>0.000000</td>\n",
       "      <td>0.201400</td>\n",
       "      <td>10.207925</td>\n",
       "      <td>2</td>\n",
       "    </tr>\n",
       "    <tr>\n",
       "      <th>8306</th>\n",
       "      <td>0.001500</td>\n",
       "      <td>0.66033</td>\n",
       "      <td>0.998500</td>\n",
       "      <td>0.011407</td>\n",
       "      <td>0.000000</td>\n",
       "      <td>0.201400</td>\n",
       "      <td>10.204564</td>\n",
       "      <td>2</td>\n",
       "    </tr>\n",
       "    <tr>\n",
       "      <th>8307</th>\n",
       "      <td>0.002500</td>\n",
       "      <td>0.66099</td>\n",
       "      <td>0.997500</td>\n",
       "      <td>0.006704</td>\n",
       "      <td>0.250000</td>\n",
       "      <td>0.251400</td>\n",
       "      <td>10.202682</td>\n",
       "      <td>2</td>\n",
       "    </tr>\n",
       "  </tbody>\n",
       "</table>\n",
       "<p>8308 rows × 8 columns</p>\n",
       "</div>"
      ],
      "text/plain": [
       "      Completeness  Precision  Integrity  Objectivity  Conciseness  \\\n",
       "0         0.005887    0.99198   0.994113     0.094149     0.166667   \n",
       "1         0.002309    0.99000   0.997691     0.086561     0.000000   \n",
       "2         0.001734    0.99000   0.998266     0.100380     0.000000   \n",
       "3         0.002312    0.99000   0.997688     0.102161     0.000000   \n",
       "4         0.002312    0.99000   0.997688     0.090962     0.000000   \n",
       "...            ...        ...        ...          ...          ...   \n",
       "8303      0.001000    0.66000   0.999000     0.001000     0.000000   \n",
       "8304      0.002500    0.66099   0.997500     0.015732     0.000000   \n",
       "8305      0.002000    0.66066   0.998000     0.019811     0.000000   \n",
       "8306      0.001500    0.66033   0.998500     0.011407     0.000000   \n",
       "8307      0.002500    0.66099   0.997500     0.006704     0.250000   \n",
       "\n",
       "      Uniqueness  Informativeness  EncodedDatatype  \n",
       "0       0.237378         0.437666                3  \n",
       "1       0.203235         0.434629                3  \n",
       "2       0.202429         0.440154                3  \n",
       "3       0.203239         0.440869                3  \n",
       "4       0.203239         0.436389                3  \n",
       "...          ...              ...              ...  \n",
       "8303    0.201400        10.200401                2  \n",
       "8304    0.201400        10.206294                2  \n",
       "8305    0.201400        10.207925                2  \n",
       "8306    0.201400        10.204564                2  \n",
       "8307    0.251400        10.202682                2  \n",
       "\n",
       "[8308 rows x 8 columns]"
      ]
     },
     "execution_count": 29,
     "metadata": {},
     "output_type": "execute_result"
    }
   ],
   "source": [
    "train_data"
   ]
  },
  {
   "cell_type": "code",
   "execution_count": 39,
   "metadata": {},
   "outputs": [
    {
     "data": {
      "image/png": "[encoded data removed]",
      "text/plain": [
       "<Figure size 800x600 with 2 Axes>"
      ]
     },
     "metadata": {},
     "output_type": "display_data"
    }
   ],
   "source": [
    "# Now, you can create a scatter plot with different colors for each cluster\n",
    "# You can choose any two features to visualize; for example, features 0 and 1\n",
    "feature_x = 'Completeness'\t  # Replace with the index of the feature you want on the x-axis\n",
    "feature_y = 'Uniqueness' # Replace with the index of the feature you want on the y-axis\n",
    "\n",
    "# Scatter plot\n",
    "plt.figure(figsize=(8, 6))\n",
    "plt.scatter(train_data[feature_x], train_data[feature_y], c=cluster_assignments)\n",
    "plt.title('GMM Clusters')\n",
    "plt.xlabel(f'Feature {feature_x}')\n",
    "# plt.xscale('log')\n",
    "# plt.yscale('log')\n",
    "plt.ylabel(f'Feature {feature_y}')\n",
    "plt.colorbar()\n",
    "plt.show()"
   ]
  },
  {
   "cell_type": "code",
   "execution_count": 51,
   "metadata": {},
   "outputs": [
    {
     "ename": "RuntimeError",
     "evalue": "No mappable was found to use for colorbar creation. First define a mappable such as an image (with imshow) or a contour set (with contourf).",
     "output_type": "error",
     "traceback": [
      "\u001b[1;31m---------------------------------------------------------------------------\u001b[0m",
      "\u001b[1;31mRuntimeError\u001b[0m                              Traceback (most recent call last)",
      "\u001b[1;32m~\\AppData\\Local\\Temp\\ipykernel_22604\\3647397476.py\u001b[0m in \u001b[0;36m<module>\u001b[1;34m\u001b[0m\n\u001b[0;32m     10\u001b[0m \u001b[0mplt\u001b[0m\u001b[1;33m.\u001b[0m\u001b[0mxlabel\u001b[0m\u001b[1;33m(\u001b[0m\u001b[1;34mf'Feature {feature_x}'\u001b[0m\u001b[1;33m)\u001b[0m\u001b[1;33m\u001b[0m\u001b[1;33m\u001b[0m\u001b[0m\n\u001b[0;32m     11\u001b[0m \u001b[0mplt\u001b[0m\u001b[1;33m.\u001b[0m\u001b[0mylabel\u001b[0m\u001b[1;33m(\u001b[0m\u001b[1;34mf'Feature {feature_y}'\u001b[0m\u001b[1;33m)\u001b[0m\u001b[1;33m\u001b[0m\u001b[1;33m\u001b[0m\u001b[0m\n\u001b[1;32m---> 12\u001b[1;33m \u001b[0mplt\u001b[0m\u001b[1;33m.\u001b[0m\u001b[0mcolorbar\u001b[0m\u001b[1;33m(\u001b[0m\u001b[1;33m)\u001b[0m\u001b[1;33m\u001b[0m\u001b[1;33m\u001b[0m\u001b[0m\n\u001b[0m\u001b[0;32m     13\u001b[0m \u001b[1;31m# plt.zlabel(f'Feature {feature_z}')\u001b[0m\u001b[1;33m\u001b[0m\u001b[1;33m\u001b[0m\u001b[0m\n\u001b[0;32m     14\u001b[0m \u001b[1;31m# show plot\u001b[0m\u001b[1;33m\u001b[0m\u001b[1;33m\u001b[0m\u001b[0m\n",
      "\u001b[1;32mc:\\Users\\Kapil Deshmukh\\Anaconda3\\lib\\site-packages\\matplotlib\\pyplot.py\u001b[0m in \u001b[0;36mcolorbar\u001b[1;34m(mappable, cax, ax, **kw)\u001b[0m\n\u001b[0;32m   2103\u001b[0m         \u001b[0mmappable\u001b[0m \u001b[1;33m=\u001b[0m \u001b[0mgci\u001b[0m\u001b[1;33m(\u001b[0m\u001b[1;33m)\u001b[0m\u001b[1;33m\u001b[0m\u001b[1;33m\u001b[0m\u001b[0m\n\u001b[0;32m   2104\u001b[0m         \u001b[1;32mif\u001b[0m \u001b[0mmappable\u001b[0m \u001b[1;32mis\u001b[0m \u001b[1;32mNone\u001b[0m\u001b[1;33m:\u001b[0m\u001b[1;33m\u001b[0m\u001b[1;33m\u001b[0m\u001b[0m\n\u001b[1;32m-> 2105\u001b[1;33m             raise RuntimeError('No mappable was found to use for colorbar '\n\u001b[0m\u001b[0;32m   2106\u001b[0m                                \u001b[1;34m'creation. First define a mappable such as '\u001b[0m\u001b[1;33m\u001b[0m\u001b[1;33m\u001b[0m\u001b[0m\n\u001b[0;32m   2107\u001b[0m                                \u001b[1;34m'an image (with imshow) or a contour set ('\u001b[0m\u001b[1;33m\u001b[0m\u001b[1;33m\u001b[0m\u001b[0m\n",
      "\u001b[1;31mRuntimeError\u001b[0m: No mappable was found to use for colorbar creation. First define a mappable such as an image (with imshow) or a contour set (with contourf)."
     ]
    },
    {
     "data": {
      "image/png": "[encoded data removed]",
      "text/plain": [
       "<Figure size 1000x700 with 1 Axes>"
      ]
     },
     "metadata": {},
     "output_type": "display_data"
    }
   ],
   "source": [
    "# Creating figure\n",
    "fig = plt.figure(figsize = (10, 7))\n",
    "ax = plt.axes(projection =\"3d\")\n",
    "feature_z = 'Completeness'\t  # Replace with the index of the feature you want on the x-axis\n",
    "feature_y = 'Precision'\n",
    "feature_x = 'EncodedDatatype'\n",
    "# Creating plot\n",
    "ax.scatter3D(train_data[feature_x], train_data[feature_y], train_data[feature_z],c=cluster_assignments, cmap='viridis')\n",
    "plt.title(\"simple 3D scatter plot\")\n",
    "plt.xlabel(f'Feature {feature_x}')\n",
    "plt.ylabel(f'Feature {feature_y}')\n",
    "plt.colorbar()\n",
    "# plt.zlabel(f'Feature {feature_z}')\n",
    "# show plot\n",
    "plt.show()"
   ]
  }
 ],
 "metadata": {
  "kernelspec": {
   "display_name": "base",
   "language": "python",
   "name": "python3"
  },
  "language_info": {
   "codemirror_mode": {
    "name": "ipython",
    "version": 3
   },
   "file_extension": ".py",
   "mimetype": "text/x-python",
   "name": "python",
   "nbconvert_exporter": "python",
   "pygments_lexer": "ipython3",
   "version": "3.9.13"
  },
  "orig_nbformat": 4
 },
 "nbformat": 4,
 "nbformat_minor": 2
}
