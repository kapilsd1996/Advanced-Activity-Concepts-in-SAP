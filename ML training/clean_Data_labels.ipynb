{
 "cells": [
  {
   "cell_type": "code",
   "execution_count": 30,
   "metadata": {},
   "outputs": [
    {
     "name": "stdout",
     "output_type": "stream",
     "text": [
      "Inconsistent Column Name - Category Number mappings found:\n",
      "Empty DataFrame\n",
      "Columns: [Left Table, Right Table, Column Name, Category Right, Category Left]\n",
      "Index: []\n"
     ]
    }
   ],
   "source": [
    "import pandas as pd\n",
    "import glob\n",
    "\n",
    "# Step 1: Read all Excel files into DataFrames and store them with their respective table names\n",
    "table_dfs = {}\n",
    "for file_path in glob.glob('D:\\OneDrive - Students RWTH Aachen University\\PADS thesis topic\\SAPDataset\\ML Features files\\ML table labels/*.xlsx'):\n",
    "    table_name = file_path.split('\\\\')[-1].split('.')[0]  # Extract table name from file path\n",
    "    table_dfs[table_name] = pd.read_excel(file_path)\n",
    "\n",
    "# Step 2: Create a master dictionary to store mappings\n",
    "master_mapping = {}\n",
    "\n",
    "# Step 3: Check for consistency\n",
    "inconsistent_columns = []\n",
    "\n",
    "for table_name, df in table_dfs.items():\n",
    "    for _, row in df.iterrows():\n",
    "        col_name = row['Column Name']\n",
    "        category_number = row['Category Number']\n",
    "\n",
    "        if col_name not in master_mapping:\n",
    "            master_mapping[col_name] = {'table': table_name, 'category': category_number}\n",
    "        elif master_mapping[col_name]['category'] != category_number:\n",
    "            inconsistent_columns.append((table_name, master_mapping[col_name]['table'], col_name, master_mapping[col_name]['category'], category_number))\n",
    "\n",
    "# Step 4: Create a DataFrame for inconsistent mappings\n",
    "inconsistent_df = pd.DataFrame(inconsistent_columns, columns=['Left Table', 'Right Table', 'Column Name', 'Category Right', 'Category Left'])\n",
    "\n",
    "# Step 5: Print the DataFrame\n",
    "print(\"Inconsistent Column Name - Category Number mappings found:\")\n",
    "print(inconsistent_df)\n"
   ]
  }
 ],
 "metadata": {
  "kernelspec": {
   "display_name": "base",
   "language": "python",
   "name": "python3"
  },
  "language_info": {
   "codemirror_mode": {
    "name": "ipython",
    "version": 3
   },
   "file_extension": ".py",
   "mimetype": "text/x-python",
   "name": "python",
   "nbconvert_exporter": "python",
   "pygments_lexer": "ipython3",
   "version": "3.9.13"
  },
  "orig_nbformat": 4
 },
 "nbformat": 4,
 "nbformat_minor": 2
}
