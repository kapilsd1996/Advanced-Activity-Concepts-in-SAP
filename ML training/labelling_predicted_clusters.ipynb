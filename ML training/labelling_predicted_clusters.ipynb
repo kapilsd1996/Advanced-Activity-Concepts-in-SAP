{
 "cells": [
  {
   "cell_type": "code",
   "execution_count": 1,
   "metadata": {},
   "outputs": [],
   "source": [
    "import pandas as pd\n",
    "import numpy as np\n",
    "import itertools\n",
    "from sklearn.metrics import accuracy_score"
   ]
  },
  {
   "cell_type": "code",
   "execution_count": 2,
   "metadata": {},
   "outputs": [],
   "source": [
    "import glob\n",
    "\n",
    "# Step 1: Read all Excel files into DataFrames and store them with their respective table names\n",
    "table_dfs = {}\n",
    "for file_path in glob.glob('D:\\OneDrive - Students RWTH Aachen University\\PADS thesis topic\\SAPDataset\\ML Features files\\ML table labels/*.xlsx'):\n",
    "    table_name = file_path.split('\\\\')[-1].split('.')[0]  # Extract table name from file path\n",
    "    table_dfs[table_name] = pd.read_excel(file_path)"
   ]
  },
  {
   "cell_type": "code",
   "execution_count": 3,
   "metadata": {},
   "outputs": [
    {
     "data": {
      "text/plain": [
       "dict_keys(['BKPF_train', 'Eban_train', 'EKKO_train', 'LIKP_train', 'MKPF_train', 'RBKP_train', 'VBAK_train', 'VBRK_train'])"
      ]
     },
     "execution_count": 3,
     "metadata": {},
     "output_type": "execute_result"
    }
   ],
   "source": [
    "table_dfs.keys()"
   ]
  },
  {
   "cell_type": "code",
   "execution_count": 12,
   "metadata": {},
   "outputs": [],
   "source": [
    "# Loop through the DataFrames in the dictionary\n",
    "for df_name, df in table_dfs.items():\n",
    "    # Extract the first 4 characters of the DataFrame name\n",
    "    table_name = df_name[:4]\n",
    "    # Add a 'Table Name' column with the first 4 characters of the DataFrame name\n",
    "    df['Table Name'] = table_name\n",
    "\n",
    "# Concatenate the DataFrames vertically into a single DataFrame\n",
    "combined_df = pd.concat(table_dfs.values(), ignore_index=True)"
   ]
  },
  {
   "cell_type": "code",
   "execution_count": 15,
   "metadata": {},
   "outputs": [],
   "source": [
    "combined_df.to_csv('ML_Col_Labels_Combined_05092023.csv', index = False)"
   ]
  },
  {
   "cell_type": "markdown",
   "metadata": {},
   "source": [
    "# MAIN"
   ]
  },
  {
   "cell_type": "code",
   "execution_count": 25,
   "metadata": {},
   "outputs": [],
   "source": [
    "clustered_data = pd.read_csv('ML_GMM_Clustered_COLS_05092023.csv')\n",
    "labels_data = pd.read_csv('ML_Col_Labels_Combined_05092023.csv')"
   ]
  },
  {
   "cell_type": "code",
   "execution_count": 26,
   "metadata": {},
   "outputs": [
    {
     "data": {
      "text/html": [
       "<div>\n",
       "<style scoped>\n",
       "    .dataframe tbody tr th:only-of-type {\n",
       "        vertical-align: middle;\n",
       "    }\n",
       "\n",
       "    .dataframe tbody tr th {\n",
       "        vertical-align: top;\n",
       "    }\n",
       "\n",
       "    .dataframe thead th {\n",
       "        text-align: right;\n",
       "    }\n",
       "</style>\n",
       "<table border=\"1\" class=\"dataframe\">\n",
       "  <thead>\n",
       "    <tr style=\"text-align: right;\">\n",
       "      <th></th>\n",
       "      <th>table_name</th>\n",
       "      <th>col_name</th>\n",
       "      <th>Cluster</th>\n",
       "    </tr>\n",
       "  </thead>\n",
       "  <tbody>\n",
       "    <tr>\n",
       "      <th>0</th>\n",
       "      <td>BKPF</td>\n",
       "      <td>AEDAT</td>\n",
       "      <td>D</td>\n",
       "    </tr>\n",
       "    <tr>\n",
       "      <th>1</th>\n",
       "      <td>BKPF</td>\n",
       "      <td>ARCID</td>\n",
       "      <td>A</td>\n",
       "    </tr>\n",
       "    <tr>\n",
       "      <th>2</th>\n",
       "      <td>BKPF</td>\n",
       "      <td>AWKEY</td>\n",
       "      <td>A</td>\n",
       "    </tr>\n",
       "    <tr>\n",
       "      <th>3</th>\n",
       "      <td>BKPF</td>\n",
       "      <td>AWTYP</td>\n",
       "      <td>A</td>\n",
       "    </tr>\n",
       "    <tr>\n",
       "      <th>4</th>\n",
       "      <td>BKPF</td>\n",
       "      <td>BASW2</td>\n",
       "      <td>A</td>\n",
       "    </tr>\n",
       "  </tbody>\n",
       "</table>\n",
       "</div>"
      ],
      "text/plain": [
       "  table_name col_name Cluster\n",
       "0       BKPF    AEDAT       D\n",
       "1       BKPF    ARCID       A\n",
       "2       BKPF    AWKEY       A\n",
       "3       BKPF    AWTYP       A\n",
       "4       BKPF    BASW2       A"
      ]
     },
     "execution_count": 26,
     "metadata": {},
     "output_type": "execute_result"
    }
   ],
   "source": [
    "clustered_data.head()"
   ]
  },
  {
   "cell_type": "code",
   "execution_count": 27,
   "metadata": {},
   "outputs": [
    {
     "data": {
      "text/html": [
       "<div>\n",
       "<style scoped>\n",
       "    .dataframe tbody tr th:only-of-type {\n",
       "        vertical-align: middle;\n",
       "    }\n",
       "\n",
       "    .dataframe tbody tr th {\n",
       "        vertical-align: top;\n",
       "    }\n",
       "\n",
       "    .dataframe thead th {\n",
       "        text-align: right;\n",
       "    }\n",
       "</style>\n",
       "<table border=\"1\" class=\"dataframe\">\n",
       "  <thead>\n",
       "    <tr style=\"text-align: right;\">\n",
       "      <th></th>\n",
       "      <th>Category Number</th>\n",
       "      <th>Column Name</th>\n",
       "      <th>Category</th>\n",
       "      <th>Explanation</th>\n",
       "      <th>Table Name</th>\n",
       "    </tr>\n",
       "  </thead>\n",
       "  <tbody>\n",
       "    <tr>\n",
       "      <th>0</th>\n",
       "      <td>0</td>\n",
       "      <td>MANDT</td>\n",
       "      <td>CASEID</td>\n",
       "      <td>Client (Identifying information for the case o...</td>\n",
       "      <td>BKPF</td>\n",
       "    </tr>\n",
       "    <tr>\n",
       "      <th>1</th>\n",
       "      <td>0</td>\n",
       "      <td>BUKRS</td>\n",
       "      <td>Activity</td>\n",
       "      <td>Company Code (Potentially an activity)</td>\n",
       "      <td>BKPF</td>\n",
       "    </tr>\n",
       "    <tr>\n",
       "      <th>2</th>\n",
       "      <td>0</td>\n",
       "      <td>BELNR</td>\n",
       "      <td>CASEID</td>\n",
       "      <td>Accounting Document Number (Identifying inform...</td>\n",
       "      <td>BKPF</td>\n",
       "    </tr>\n",
       "    <tr>\n",
       "      <th>3</th>\n",
       "      <td>0</td>\n",
       "      <td>GJAHR</td>\n",
       "      <td>Timestamp</td>\n",
       "      <td>Fiscal Year (Timestamp or date information)</td>\n",
       "      <td>BKPF</td>\n",
       "    </tr>\n",
       "    <tr>\n",
       "      <th>4</th>\n",
       "      <td>2</td>\n",
       "      <td>BLART</td>\n",
       "      <td>Activity</td>\n",
       "      <td>Document Type (Potentially an activity)</td>\n",
       "      <td>BKPF</td>\n",
       "    </tr>\n",
       "  </tbody>\n",
       "</table>\n",
       "</div>"
      ],
      "text/plain": [
       "   Category Number Column Name   Category  \\\n",
       "0                0       MANDT     CASEID   \n",
       "1                0       BUKRS   Activity   \n",
       "2                0       BELNR     CASEID   \n",
       "3                0       GJAHR  Timestamp   \n",
       "4                2       BLART   Activity   \n",
       "\n",
       "                                         Explanation Table Name  \n",
       "0  Client (Identifying information for the case o...       BKPF  \n",
       "1             Company Code (Potentially an activity)       BKPF  \n",
       "2  Accounting Document Number (Identifying inform...       BKPF  \n",
       "3        Fiscal Year (Timestamp or date information)       BKPF  \n",
       "4            Document Type (Potentially an activity)       BKPF  "
      ]
     },
     "execution_count": 27,
     "metadata": {},
     "output_type": "execute_result"
    }
   ],
   "source": [
    "labels_data.head()"
   ]
  },
  {
   "cell_type": "code",
   "execution_count": 29,
   "metadata": {},
   "outputs": [],
   "source": [
    "# Merge cluster assignments with true labels\n",
    "merged_data = pd.merge(clustered_data, labels_data, left_on=['table_name', 'col_name'],\n",
    "                                    right_on = ['Table Name', 'Column Name'] ,how='inner')\n"
   ]
  },
  {
   "cell_type": "code",
   "execution_count": 30,
   "metadata": {},
   "outputs": [
    {
     "data": {
      "text/html": [
       "<div>\n",
       "<style scoped>\n",
       "    .dataframe tbody tr th:only-of-type {\n",
       "        vertical-align: middle;\n",
       "    }\n",
       "\n",
       "    .dataframe tbody tr th {\n",
       "        vertical-align: top;\n",
       "    }\n",
       "\n",
       "    .dataframe thead th {\n",
       "        text-align: right;\n",
       "    }\n",
       "</style>\n",
       "<table border=\"1\" class=\"dataframe\">\n",
       "  <thead>\n",
       "    <tr style=\"text-align: right;\">\n",
       "      <th></th>\n",
       "      <th>table_name</th>\n",
       "      <th>col_name</th>\n",
       "      <th>Cluster</th>\n",
       "      <th>Category Number</th>\n",
       "      <th>Column Name</th>\n",
       "      <th>Category</th>\n",
       "      <th>Explanation</th>\n",
       "      <th>Table Name</th>\n",
       "    </tr>\n",
       "  </thead>\n",
       "  <tbody>\n",
       "    <tr>\n",
       "      <th>0</th>\n",
       "      <td>BKPF</td>\n",
       "      <td>AEDAT</td>\n",
       "      <td>D</td>\n",
       "      <td>2</td>\n",
       "      <td>AEDAT</td>\n",
       "      <td>Timestamp</td>\n",
       "      <td>Date of Last Change (Timestamp or date informa...</td>\n",
       "      <td>BKPF</td>\n",
       "    </tr>\n",
       "    <tr>\n",
       "      <th>1</th>\n",
       "      <td>BKPF</td>\n",
       "      <td>ARCID</td>\n",
       "      <td>A</td>\n",
       "      <td>3</td>\n",
       "      <td>ARCID</td>\n",
       "      <td>Activity</td>\n",
       "      <td>Archive ID (Potentially an activity)</td>\n",
       "      <td>BKPF</td>\n",
       "    </tr>\n",
       "    <tr>\n",
       "      <th>2</th>\n",
       "      <td>BKPF</td>\n",
       "      <td>AWKEY</td>\n",
       "      <td>A</td>\n",
       "      <td>2</td>\n",
       "      <td>AWKEY</td>\n",
       "      <td>Activity</td>\n",
       "      <td>Reference Key for Line Item (Potentially an ac...</td>\n",
       "      <td>BKPF</td>\n",
       "    </tr>\n",
       "    <tr>\n",
       "      <th>3</th>\n",
       "      <td>BKPF</td>\n",
       "      <td>AWTYP</td>\n",
       "      <td>A</td>\n",
       "      <td>2</td>\n",
       "      <td>AWTYP</td>\n",
       "      <td>Activity</td>\n",
       "      <td>Reference Procedure for Document Entry (Potent...</td>\n",
       "      <td>BKPF</td>\n",
       "    </tr>\n",
       "    <tr>\n",
       "      <th>4</th>\n",
       "      <td>BKPF</td>\n",
       "      <td>BASW2</td>\n",
       "      <td>A</td>\n",
       "      <td>3</td>\n",
       "      <td>BASW2</td>\n",
       "      <td>Activity</td>\n",
       "      <td>2nd Local Currency Translation Method (Potenti...</td>\n",
       "      <td>BKPF</td>\n",
       "    </tr>\n",
       "    <tr>\n",
       "      <th>...</th>\n",
       "      <td>...</td>\n",
       "      <td>...</td>\n",
       "      <td>...</td>\n",
       "      <td>...</td>\n",
       "      <td>...</td>\n",
       "      <td>...</td>\n",
       "      <td>...</td>\n",
       "      <td>...</td>\n",
       "    </tr>\n",
       "    <tr>\n",
       "      <th>285</th>\n",
       "      <td>VBRK</td>\n",
       "      <td>VTWEG</td>\n",
       "      <td>A</td>\n",
       "      <td>3</td>\n",
       "      <td>VTWEG</td>\n",
       "      <td>Activity</td>\n",
       "      <td>Distribution Channel (Potentially an activity)</td>\n",
       "      <td>VBRK</td>\n",
       "    </tr>\n",
       "    <tr>\n",
       "      <th>286</th>\n",
       "      <td>VBRK</td>\n",
       "      <td>WAERK</td>\n",
       "      <td>D</td>\n",
       "      <td>3</td>\n",
       "      <td>WAERK</td>\n",
       "      <td>Activity</td>\n",
       "      <td>Currency Key (Potentially an activity)</td>\n",
       "      <td>VBRK</td>\n",
       "    </tr>\n",
       "    <tr>\n",
       "      <th>287</th>\n",
       "      <td>VBRK</td>\n",
       "      <td>ZLSCH</td>\n",
       "      <td>A</td>\n",
       "      <td>3</td>\n",
       "      <td>ZLSCH</td>\n",
       "      <td>Activity</td>\n",
       "      <td>Payment Method (Potentially an activity)</td>\n",
       "      <td>VBRK</td>\n",
       "    </tr>\n",
       "    <tr>\n",
       "      <th>288</th>\n",
       "      <td>VBRK</td>\n",
       "      <td>ZTERM</td>\n",
       "      <td>A</td>\n",
       "      <td>2</td>\n",
       "      <td>ZTERM</td>\n",
       "      <td>Activity</td>\n",
       "      <td>Terms of Payment Key (Potentially an activity)</td>\n",
       "      <td>VBRK</td>\n",
       "    </tr>\n",
       "    <tr>\n",
       "      <th>289</th>\n",
       "      <td>VBRK</td>\n",
       "      <td>ZUKRI</td>\n",
       "      <td>A</td>\n",
       "      <td>3</td>\n",
       "      <td>ZUKRI</td>\n",
       "      <td>Activity</td>\n",
       "      <td>Indicator: Bill of Exchange Bill Received (Pot...</td>\n",
       "      <td>VBRK</td>\n",
       "    </tr>\n",
       "  </tbody>\n",
       "</table>\n",
       "<p>290 rows × 8 columns</p>\n",
       "</div>"
      ],
      "text/plain": [
       "    table_name col_name Cluster  Category Number Column Name   Category  \\\n",
       "0         BKPF    AEDAT       D                2       AEDAT  Timestamp   \n",
       "1         BKPF    ARCID       A                3       ARCID   Activity   \n",
       "2         BKPF    AWKEY       A                2       AWKEY   Activity   \n",
       "3         BKPF    AWTYP       A                2       AWTYP   Activity   \n",
       "4         BKPF    BASW2       A                3       BASW2   Activity   \n",
       "..         ...      ...     ...              ...         ...        ...   \n",
       "285       VBRK    VTWEG       A                3       VTWEG   Activity   \n",
       "286       VBRK    WAERK       D                3       WAERK   Activity   \n",
       "287       VBRK    ZLSCH       A                3       ZLSCH   Activity   \n",
       "288       VBRK    ZTERM       A                2       ZTERM   Activity   \n",
       "289       VBRK    ZUKRI       A                3       ZUKRI   Activity   \n",
       "\n",
       "                                           Explanation Table Name  \n",
       "0    Date of Last Change (Timestamp or date informa...       BKPF  \n",
       "1                 Archive ID (Potentially an activity)       BKPF  \n",
       "2    Reference Key for Line Item (Potentially an ac...       BKPF  \n",
       "3    Reference Procedure for Document Entry (Potent...       BKPF  \n",
       "4    2nd Local Currency Translation Method (Potenti...       BKPF  \n",
       "..                                                 ...        ...  \n",
       "285     Distribution Channel (Potentially an activity)       VBRK  \n",
       "286             Currency Key (Potentially an activity)       VBRK  \n",
       "287           Payment Method (Potentially an activity)       VBRK  \n",
       "288     Terms of Payment Key (Potentially an activity)       VBRK  \n",
       "289  Indicator: Bill of Exchange Bill Received (Pot...       VBRK  \n",
       "\n",
       "[290 rows x 8 columns]"
      ]
     },
     "execution_count": 30,
     "metadata": {},
     "output_type": "execute_result"
    }
   ],
   "source": [
    "merged_data"
   ]
  },
  {
   "cell_type": "code",
   "execution_count": 36,
   "metadata": {},
   "outputs": [
    {
     "data": {
      "text/plain": [
       "array(['A', 'B', 'C', 'D'], dtype=object)"
      ]
     },
     "execution_count": 36,
     "metadata": {},
     "output_type": "execute_result"
    }
   ],
   "source": [
    "np.unique(merged_data['Cluster'])"
   ]
  },
  {
   "cell_type": "code",
   "execution_count": 37,
   "metadata": {},
   "outputs": [
    {
     "data": {
      "text/plain": [
       "array([0, 1, 2, 3], dtype=int64)"
      ]
     },
     "execution_count": 37,
     "metadata": {},
     "output_type": "execute_result"
    }
   ],
   "source": [
    "np.unique(merged_data['Category Number'])"
   ]
  },
  {
   "cell_type": "code",
   "execution_count": 45,
   "metadata": {},
   "outputs": [],
   "source": [
    "clusters = ['A', 'B', 'C', 'D']\n",
    "results_df = pd.DataFrame(columns=clusters + ['Accuracy'])"
   ]
  },
  {
   "cell_type": "code",
   "execution_count": 46,
   "metadata": {},
   "outputs": [],
   "source": [
    "# Generate all permutations of category assignments to clusters\n",
    "permutations = list(itertools.permutations([0, 1, 2, 3]))"
   ]
  },
  {
   "cell_type": "code",
   "execution_count": 47,
   "metadata": {},
   "outputs": [
    {
     "name": "stdout",
     "output_type": "stream",
     "text": [
      "{'A': 0, 'B': 1, 'C': 2, 'D': 3}\n",
      "[0 1 2 3]\n",
      "[0 1 2 3]\n",
      "{'A': 0, 'B': 1, 'C': 3, 'D': 2}\n",
      "[0 1 2 3]\n",
      "[0 1 2 3]\n",
      "{'A': 0, 'B': 2, 'C': 1, 'D': 3}\n",
      "[0 1 2 3]\n",
      "[0 1 2 3]\n",
      "{'A': 0, 'B': 2, 'C': 3, 'D': 1}\n",
      "[0 1 2 3]\n",
      "[0 1 2 3]\n",
      "{'A': 0, 'B': 3, 'C': 1, 'D': 2}\n",
      "[0 1 2 3]\n",
      "[0 1 2 3]\n",
      "{'A': 0, 'B': 3, 'C': 2, 'D': 1}\n",
      "[0 1 2 3]\n",
      "[0 1 2 3]\n",
      "{'A': 1, 'B': 0, 'C': 2, 'D': 3}\n",
      "[0 1 2 3]\n",
      "[0 1 2 3]\n",
      "{'A': 1, 'B': 0, 'C': 3, 'D': 2}\n",
      "[0 1 2 3]\n",
      "[0 1 2 3]\n",
      "{'A': 1, 'B': 2, 'C': 0, 'D': 3}\n",
      "[0 1 2 3]\n",
      "[0 1 2 3]\n",
      "{'A': 1, 'B': 2, 'C': 3, 'D': 0}\n",
      "[0 1 2 3]\n",
      "[0 1 2 3]\n",
      "{'A': 1, 'B': 3, 'C': 0, 'D': 2}\n",
      "[0 1 2 3]\n",
      "[0 1 2 3]\n",
      "{'A': 1, 'B': 3, 'C': 2, 'D': 0}\n",
      "[0 1 2 3]\n",
      "[0 1 2 3]\n",
      "{'A': 2, 'B': 0, 'C': 1, 'D': 3}\n",
      "[0 1 2 3]\n",
      "[0 1 2 3]\n",
      "{'A': 2, 'B': 0, 'C': 3, 'D': 1}\n",
      "[0 1 2 3]\n",
      "[0 1 2 3]\n",
      "{'A': 2, 'B': 1, 'C': 0, 'D': 3}\n",
      "[0 1 2 3]\n",
      "[0 1 2 3]\n",
      "{'A': 2, 'B': 1, 'C': 3, 'D': 0}\n",
      "[0 1 2 3]\n",
      "[0 1 2 3]\n",
      "{'A': 2, 'B': 3, 'C': 0, 'D': 1}\n",
      "[0 1 2 3]\n",
      "[0 1 2 3]\n",
      "{'A': 2, 'B': 3, 'C': 1, 'D': 0}\n",
      "[0 1 2 3]\n",
      "[0 1 2 3]\n",
      "{'A': 3, 'B': 0, 'C': 1, 'D': 2}\n",
      "[0 1 2 3]\n",
      "[0 1 2 3]\n",
      "{'A': 3, 'B': 0, 'C': 2, 'D': 1}\n",
      "[0 1 2 3]\n",
      "[0 1 2 3]\n",
      "{'A': 3, 'B': 1, 'C': 0, 'D': 2}\n",
      "[0 1 2 3]\n",
      "[0 1 2 3]\n",
      "{'A': 3, 'B': 1, 'C': 2, 'D': 0}\n",
      "[0 1 2 3]\n",
      "[0 1 2 3]\n",
      "{'A': 3, 'B': 2, 'C': 0, 'D': 1}\n",
      "[0 1 2 3]\n",
      "[0 1 2 3]\n",
      "{'A': 3, 'B': 2, 'C': 1, 'D': 0}\n",
      "[0 1 2 3]\n",
      "[0 1 2 3]\n"
     ]
    },
    {
     "name": "stderr",
     "output_type": "stream",
     "text": [
      "C:\\Users\\Kapil Deshmukh\\AppData\\Local\\Temp\\ipykernel_8440\\1521468801.py:17: FutureWarning: The frame.append method is deprecated and will be removed from pandas in a future version. Use pandas.concat instead.\n",
      "  results_df = results_df.append(pd.Series(result_row, index=results_df.columns), ignore_index=True)\n",
      "C:\\Users\\Kapil Deshmukh\\AppData\\Local\\Temp\\ipykernel_8440\\1521468801.py:17: FutureWarning: The frame.append method is deprecated and will be removed from pandas in a future version. Use pandas.concat instead.\n",
      "  results_df = results_df.append(pd.Series(result_row, index=results_df.columns), ignore_index=True)\n",
      "C:\\Users\\Kapil Deshmukh\\AppData\\Local\\Temp\\ipykernel_8440\\1521468801.py:17: FutureWarning: The frame.append method is deprecated and will be removed from pandas in a future version. Use pandas.concat instead.\n",
      "  results_df = results_df.append(pd.Series(result_row, index=results_df.columns), ignore_index=True)\n",
      "C:\\Users\\Kapil Deshmukh\\AppData\\Local\\Temp\\ipykernel_8440\\1521468801.py:17: FutureWarning: The frame.append method is deprecated and will be removed from pandas in a future version. Use pandas.concat instead.\n",
      "  results_df = results_df.append(pd.Series(result_row, index=results_df.columns), ignore_index=True)\n",
      "C:\\Users\\Kapil Deshmukh\\AppData\\Local\\Temp\\ipykernel_8440\\1521468801.py:17: FutureWarning: The frame.append method is deprecated and will be removed from pandas in a future version. Use pandas.concat instead.\n",
      "  results_df = results_df.append(pd.Series(result_row, index=results_df.columns), ignore_index=True)\n",
      "C:\\Users\\Kapil Deshmukh\\AppData\\Local\\Temp\\ipykernel_8440\\1521468801.py:17: FutureWarning: The frame.append method is deprecated and will be removed from pandas in a future version. Use pandas.concat instead.\n",
      "  results_df = results_df.append(pd.Series(result_row, index=results_df.columns), ignore_index=True)\n",
      "C:\\Users\\Kapil Deshmukh\\AppData\\Local\\Temp\\ipykernel_8440\\1521468801.py:17: FutureWarning: The frame.append method is deprecated and will be removed from pandas in a future version. Use pandas.concat instead.\n",
      "  results_df = results_df.append(pd.Series(result_row, index=results_df.columns), ignore_index=True)\n",
      "C:\\Users\\Kapil Deshmukh\\AppData\\Local\\Temp\\ipykernel_8440\\1521468801.py:17: FutureWarning: The frame.append method is deprecated and will be removed from pandas in a future version. Use pandas.concat instead.\n",
      "  results_df = results_df.append(pd.Series(result_row, index=results_df.columns), ignore_index=True)\n",
      "C:\\Users\\Kapil Deshmukh\\AppData\\Local\\Temp\\ipykernel_8440\\1521468801.py:17: FutureWarning: The frame.append method is deprecated and will be removed from pandas in a future version. Use pandas.concat instead.\n",
      "  results_df = results_df.append(pd.Series(result_row, index=results_df.columns), ignore_index=True)\n",
      "C:\\Users\\Kapil Deshmukh\\AppData\\Local\\Temp\\ipykernel_8440\\1521468801.py:17: FutureWarning: The frame.append method is deprecated and will be removed from pandas in a future version. Use pandas.concat instead.\n",
      "  results_df = results_df.append(pd.Series(result_row, index=results_df.columns), ignore_index=True)\n",
      "C:\\Users\\Kapil Deshmukh\\AppData\\Local\\Temp\\ipykernel_8440\\1521468801.py:17: FutureWarning: The frame.append method is deprecated and will be removed from pandas in a future version. Use pandas.concat instead.\n",
      "  results_df = results_df.append(pd.Series(result_row, index=results_df.columns), ignore_index=True)\n",
      "C:\\Users\\Kapil Deshmukh\\AppData\\Local\\Temp\\ipykernel_8440\\1521468801.py:17: FutureWarning: The frame.append method is deprecated and will be removed from pandas in a future version. Use pandas.concat instead.\n",
      "  results_df = results_df.append(pd.Series(result_row, index=results_df.columns), ignore_index=True)\n",
      "C:\\Users\\Kapil Deshmukh\\AppData\\Local\\Temp\\ipykernel_8440\\1521468801.py:17: FutureWarning: The frame.append method is deprecated and will be removed from pandas in a future version. Use pandas.concat instead.\n",
      "  results_df = results_df.append(pd.Series(result_row, index=results_df.columns), ignore_index=True)\n",
      "C:\\Users\\Kapil Deshmukh\\AppData\\Local\\Temp\\ipykernel_8440\\1521468801.py:17: FutureWarning: The frame.append method is deprecated and will be removed from pandas in a future version. Use pandas.concat instead.\n",
      "  results_df = results_df.append(pd.Series(result_row, index=results_df.columns), ignore_index=True)\n",
      "C:\\Users\\Kapil Deshmukh\\AppData\\Local\\Temp\\ipykernel_8440\\1521468801.py:17: FutureWarning: The frame.append method is deprecated and will be removed from pandas in a future version. Use pandas.concat instead.\n",
      "  results_df = results_df.append(pd.Series(result_row, index=results_df.columns), ignore_index=True)\n",
      "C:\\Users\\Kapil Deshmukh\\AppData\\Local\\Temp\\ipykernel_8440\\1521468801.py:17: FutureWarning: The frame.append method is deprecated and will be removed from pandas in a future version. Use pandas.concat instead.\n",
      "  results_df = results_df.append(pd.Series(result_row, index=results_df.columns), ignore_index=True)\n",
      "C:\\Users\\Kapil Deshmukh\\AppData\\Local\\Temp\\ipykernel_8440\\1521468801.py:17: FutureWarning: The frame.append method is deprecated and will be removed from pandas in a future version. Use pandas.concat instead.\n",
      "  results_df = results_df.append(pd.Series(result_row, index=results_df.columns), ignore_index=True)\n",
      "C:\\Users\\Kapil Deshmukh\\AppData\\Local\\Temp\\ipykernel_8440\\1521468801.py:17: FutureWarning: The frame.append method is deprecated and will be removed from pandas in a future version. Use pandas.concat instead.\n",
      "  results_df = results_df.append(pd.Series(result_row, index=results_df.columns), ignore_index=True)\n",
      "C:\\Users\\Kapil Deshmukh\\AppData\\Local\\Temp\\ipykernel_8440\\1521468801.py:17: FutureWarning: The frame.append method is deprecated and will be removed from pandas in a future version. Use pandas.concat instead.\n",
      "  results_df = results_df.append(pd.Series(result_row, index=results_df.columns), ignore_index=True)\n",
      "C:\\Users\\Kapil Deshmukh\\AppData\\Local\\Temp\\ipykernel_8440\\1521468801.py:17: FutureWarning: The frame.append method is deprecated and will be removed from pandas in a future version. Use pandas.concat instead.\n",
      "  results_df = results_df.append(pd.Series(result_row, index=results_df.columns), ignore_index=True)\n",
      "C:\\Users\\Kapil Deshmukh\\AppData\\Local\\Temp\\ipykernel_8440\\1521468801.py:17: FutureWarning: The frame.append method is deprecated and will be removed from pandas in a future version. Use pandas.concat instead.\n",
      "  results_df = results_df.append(pd.Series(result_row, index=results_df.columns), ignore_index=True)\n",
      "C:\\Users\\Kapil Deshmukh\\AppData\\Local\\Temp\\ipykernel_8440\\1521468801.py:17: FutureWarning: The frame.append method is deprecated and will be removed from pandas in a future version. Use pandas.concat instead.\n",
      "  results_df = results_df.append(pd.Series(result_row, index=results_df.columns), ignore_index=True)\n",
      "C:\\Users\\Kapil Deshmukh\\AppData\\Local\\Temp\\ipykernel_8440\\1521468801.py:17: FutureWarning: The frame.append method is deprecated and will be removed from pandas in a future version. Use pandas.concat instead.\n",
      "  results_df = results_df.append(pd.Series(result_row, index=results_df.columns), ignore_index=True)\n",
      "C:\\Users\\Kapil Deshmukh\\AppData\\Local\\Temp\\ipykernel_8440\\1521468801.py:17: FutureWarning: The frame.append method is deprecated and will be removed from pandas in a future version. Use pandas.concat instead.\n",
      "  results_df = results_df.append(pd.Series(result_row, index=results_df.columns), ignore_index=True)\n"
     ]
    }
   ],
   "source": [
    "# Iterate through permutations and calculate BCE\n",
    "for perm in permutations:\n",
    "    df = merged_data.copy()\n",
    "    assignment_mapping = dict(zip(clusters, perm))  # Map clusters to categories\n",
    "    print(assignment_mapping)\n",
    "    df['Cluster'] = df['Cluster'].map(assignment_mapping)\n",
    "    print(np.unique(df['Cluster']))\n",
    "    print(np.unique(df['Category Number']))\n",
    "    # Calculate BCE for each column\n",
    "    # Get the unique classes present in the current assignment\n",
    "    # current_unique_classes = df['Category Number'].unique()\n",
    "\n",
    "    accuracy = accuracy_score(df['Category Number'], df['Cluster'])\n",
    "\n",
    "    # Append results to the DataFrame\n",
    "    result_row = list(perm) + [accuracy]\n",
    "    results_df = results_df.append(pd.Series(result_row, index=results_df.columns), ignore_index=True)\n",
    "\n",
    "# Print the results DataFrame\n",
    "# print(results_df)\n",
    "    # predicted_labels = [assignment_mapping[cluster] for cluster in clusters]"
   ]
  },
  {
   "cell_type": "code",
   "execution_count": 48,
   "metadata": {},
   "outputs": [
    {
     "data": {
      "text/html": [
       "<div>\n",
       "<style scoped>\n",
       "    .dataframe tbody tr th:only-of-type {\n",
       "        vertical-align: middle;\n",
       "    }\n",
       "\n",
       "    .dataframe tbody tr th {\n",
       "        vertical-align: top;\n",
       "    }\n",
       "\n",
       "    .dataframe thead th {\n",
       "        text-align: right;\n",
       "    }\n",
       "</style>\n",
       "<table border=\"1\" class=\"dataframe\">\n",
       "  <thead>\n",
       "    <tr style=\"text-align: right;\">\n",
       "      <th></th>\n",
       "      <th>A</th>\n",
       "      <th>B</th>\n",
       "      <th>C</th>\n",
       "      <th>D</th>\n",
       "      <th>Accuracy</th>\n",
       "    </tr>\n",
       "  </thead>\n",
       "  <tbody>\n",
       "    <tr>\n",
       "      <th>18</th>\n",
       "      <td>3.0</td>\n",
       "      <td>0.0</td>\n",
       "      <td>1.0</td>\n",
       "      <td>2.0</td>\n",
       "      <td>0.455172</td>\n",
       "    </tr>\n",
       "  </tbody>\n",
       "</table>\n",
       "</div>"
      ],
      "text/plain": [
       "      A    B    C    D  Accuracy\n",
       "18  3.0  0.0  1.0  2.0  0.455172"
      ]
     },
     "execution_count": 48,
     "metadata": {},
     "output_type": "execute_result"
    }
   ],
   "source": [
    "results_df.loc[results_df['Accuracy'] == max(results_df['Accuracy']) ]"
   ]
  },
  {
   "cell_type": "code",
   "execution_count": 55,
   "metadata": {},
   "outputs": [
    {
     "data": {
      "text/plain": [
       "array([[ 5,  1, 12,  4],\n",
       "       [ 0,  1, 30,  0],\n",
       "       [ 0,  0, 43, 80],\n",
       "       [ 1,  0, 30, 83]], dtype=int64)"
      ]
     },
     "execution_count": 55,
     "metadata": {},
     "output_type": "execute_result"
    }
   ],
   "source": [
    "from sklearn.metrics import confusion_matrix\n",
    "import matplotlib.pyplot as plt\n",
    "import seaborn as sns\n",
    "\n",
    "df = merged_data.copy()\n",
    "# Define the true labels (categories) and predicted labels (clusters)\n",
    "true_labels = df['Category Number']\n",
    "df['Cluster']= df['Cluster'].map({'A': 3, 'B': 0, 'C': 1, 'D': 2})\n",
    "predicted_labels = df['Cluster']\n",
    "# Create the confusion matrix\n",
    "confusion = confusion_matrix(true_labels, predicted_labels)\n",
    "confusion\n",
    "# Create a DataFrame for better visualization\n",
    "# confusion_df = pd.DataFrame(confusion, columns=['Cluster A', 'Cluster B', 'Cluster C', 'Cluster D'], index=['Category 0', 'Category 1', 'Category 2', 'Category 3'])\n",
    "\n",
    "# print(confusion_df)"
   ]
  },
  {
   "cell_type": "code",
   "execution_count": 56,
   "metadata": {},
   "outputs": [
    {
     "data": {
      "image/png": "[encoded data removed]",
      "text/plain": [
       "<Figure size 800x600 with 1 Axes>"
      ]
     },
     "metadata": {},
     "output_type": "display_data"
    }
   ],
   "source": [
    "# Create a confusion matrix\n",
    "confusion = confusion_matrix(true_labels, predicted_labels)\n",
    "\n",
    "# Define class labels\n",
    "class_labels = ['Category 0', 'Category 1', 'Category 2', 'Category 3']\n",
    "\n",
    "# Create a seaborn heatmap for the confusion matrix\n",
    "plt.figure(figsize=(8, 6))\n",
    "sns.set(font_scale=1.2)  # Adjust font size\n",
    "sns.heatmap(confusion, annot=True, fmt=\"d\", cmap=\"Blues\", cbar=False, square=True,\n",
    "            xticklabels=class_labels, yticklabels=class_labels)\n",
    "plt.xlabel('Predicted Labels')\n",
    "plt.ylabel('True Labels')\n",
    "plt.title('Confusion Matrix of the prediction classes based on unsupervised learning method')\n",
    "\n",
    "# Display the plot\n",
    "plt.show()"
   ]
  },
  {
   "cell_type": "code",
   "execution_count": 58,
   "metadata": {},
   "outputs": [
    {
     "data": {
      "text/plain": [
       "(array([0, 1, 2, 3], dtype=int64), array([ 22,  31, 123, 114], dtype=int64))"
      ]
     },
     "execution_count": 58,
     "metadata": {},
     "output_type": "execute_result"
    }
   ],
   "source": [
    "np.unique(true_labels , return_counts = True)"
   ]
  },
  {
   "cell_type": "code",
   "execution_count": 57,
   "metadata": {},
   "outputs": [
    {
     "name": "stdout",
     "output_type": "stream",
     "text": [
      "              precision    recall  f1-score     support\n",
      "Category 0     0.833333  0.227273  0.357143   22.000000\n",
      "Category 1     0.500000  0.032258  0.060606   31.000000\n",
      "Category 2     0.373913  0.349593  0.361345  123.000000\n",
      "Category 3     0.497006  0.728070  0.590747  114.000000\n",
      "accuracy       0.455172  0.455172  0.455172    0.455172\n",
      "macro avg      0.551063  0.334299  0.342460  290.000000\n",
      "weighted avg   0.470632  0.455172  0.419057  290.000000\n"
     ]
    }
   ],
   "source": [
    "from sklearn.metrics import classification_report\n",
    "\n",
    "# Calculate precision, recall, F1-score, and support\n",
    "report = classification_report(true_labels, predicted_labels, target_names=class_labels, output_dict=True)\n",
    "\n",
    "# Create a DataFrame to display the metrics\n",
    "metrics_df = pd.DataFrame(report).transpose()\n",
    "\n",
    "# Print the metrics\n",
    "print(metrics_df)"
   ]
  }
 ],
 "metadata": {
  "kernelspec": {
   "display_name": "base",
   "language": "python",
   "name": "python3"
  },
  "language_info": {
   "codemirror_mode": {
    "name": "ipython",
    "version": 3
   },
   "file_extension": ".py",
   "mimetype": "text/x-python",
   "name": "python",
   "nbconvert_exporter": "python",
   "pygments_lexer": "ipython3",
   "version": "3.9.13"
  },
  "orig_nbformat": 4
 },
 "nbformat": 4,
 "nbformat_minor": 2
}
